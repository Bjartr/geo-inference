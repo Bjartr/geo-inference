{
 "cells": [
  {
   "cell_type": "code",
   "execution_count": 1,
   "id": "402e46e5",
   "metadata": {
    "_cell_guid": "b1076dfc-b9ad-4769-8c92-a6c4dae69d19",
    "_uuid": "8f2839f25d086af736a60e9eeb907d3b93b6e0e5",
    "execution": {
     "iopub.execute_input": "2023-06-15T02:50:33.900094Z",
     "iopub.status.busy": "2023-06-15T02:50:33.899394Z",
     "iopub.status.idle": "2023-06-15T02:50:33.981342Z",
     "shell.execute_reply": "2023-06-15T02:50:33.981810Z"
    },
    "papermill": {
     "duration": 0.105865,
     "end_time": "2023-06-15T02:50:33.982174",
     "exception": false,
     "start_time": "2023-06-15T02:50:33.876309",
     "status": "completed"
    },
    "tags": []
   },
   "outputs": [],
   "source": [
    "import numpy as np # linear algebra\n",
    "import pandas as pd # data processing, CSV file I/O (e.g. pd.read_csv)\n",
    "import os\n",
    "import csv\n",
    "import gc\n",
    "import gzip\n",
    "import pickle\n",
    "from pathlib import Path \n",
    "import sqlite3\n",
    "import re\n",
    "import string"
   ]
  },
  {
   "cell_type": "markdown",
   "id": "7efbe4b9",
   "metadata": {},
   "source": [
    "## Load data and insert into SQlite DB from FULL source \n",
    "- 2022-2023, mix of retweets, all languages"
   ]
  },
  {
   "cell_type": "code",
   "execution_count": 2,
   "id": "8e81f49c",
   "metadata": {},
   "outputs": [
    {
     "name": "stdout",
     "output_type": "stream",
     "text": [
      "Length of files: 461\n"
     ]
    }
   ],
   "source": [
    "csv_collection = []\n",
    "for dirname, _, filenames in os.walk('D:\\PENNSTATE_GIS\\CAPSTONE!\\Data_1'):\n",
    "    filenames.sort()\n",
    "    for filename in filenames:\n",
    "        fullpath = os.path.join(dirname, filename)\n",
    "        csv_collection.append(fullpath)\n",
    "print(\"Length of files:\", len(csv_collection))"
   ]
  },
  {
   "cell_type": "code",
   "execution_count": 3,
   "id": "fc0e1d26",
   "metadata": {},
   "outputs": [],
   "source": [
    "# Connect to the SQLite database\n",
    "conn = sqlite3.connect(r'D:\\PENNSTATE_GIS\\CAPSTONE!\\sql_db_lite\\full_tweets.db')\n",
    "cursor = conn.cursor()"
   ]
  },
  {
   "cell_type": "markdown",
   "id": "6dd76cc3",
   "metadata": {},
   "source": [
    "### Load into the database - commented out so not accidentialy loaded again"
   ]
  },
  {
   "cell_type": "code",
   "execution_count": 4,
   "id": "c9e8c01d",
   "metadata": {},
   "outputs": [],
   "source": [
    "# # columns = [\"tweetcreatedts\",\"extractedts\",\"tweetid\"]\n",
    "\n",
    "# csv_collection.sort()\n",
    "# dataframe_collection_1 = []\n",
    "\n",
    "# for csvfile in csv_collection:\n",
    "#     try:\n",
    "#         df = pd.read_csv(csvfile, engine='python', compression='gzip',encoding='utf-8', quoting=csv.QUOTE_ALL)  #, usecols=lambda x: x in columns\n",
    "#         df.to_sql('full_tweets', conn, if_exists='append', index=False)\n",
    "#     except:\n",
    "#         query = \"\"\"SELECT * from full_tweets LIMIT 1\"\"\"\n",
    "#         df_for_cols = pd.read_sql(query, conn)\n",
    "#         col_lst = list(df_for_cols.columns)\n",
    "#         df = df[col_lst]\n",
    "#         df.to_sql('full_tweets', conn, if_exists='append', index=False)\n",
    "        \n",
    "# df = None\n",
    "# del df\n",
    "# gc.collect()\n",
    "\n",
    "# conn.commit()\n",
    "# conn.close()"
   ]
  },
  {
   "cell_type": "code",
   "execution_count": 5,
   "id": "9396ef19",
   "metadata": {},
   "outputs": [
    {
     "data": {
      "text/html": [
       "<div>\n",
       "<style scoped>\n",
       "    .dataframe tbody tr th:only-of-type {\n",
       "        vertical-align: middle;\n",
       "    }\n",
       "\n",
       "    .dataframe tbody tr th {\n",
       "        vertical-align: top;\n",
       "    }\n",
       "\n",
       "    .dataframe thead th {\n",
       "        text-align: right;\n",
       "    }\n",
       "</style>\n",
       "<table border=\"1\" class=\"dataframe\">\n",
       "  <thead>\n",
       "    <tr style=\"text-align: right;\">\n",
       "      <th></th>\n",
       "      <th>count(*)</th>\n",
       "    </tr>\n",
       "  </thead>\n",
       "  <tbody>\n",
       "    <tr>\n",
       "      <th>0</th>\n",
       "      <td>70876102</td>\n",
       "    </tr>\n",
       "  </tbody>\n",
       "</table>\n",
       "</div>"
      ],
      "text/plain": [
       "   count(*)\n",
       "0  70876102"
      ]
     },
     "execution_count": 5,
     "metadata": {},
     "output_type": "execute_result"
    }
   ],
   "source": [
    "# It's 70+ Million tweets\n",
    "query = \"\"\"SELECT count(*) from full_tweets\"\"\"\n",
    "pd.read_sql(query, conn)"
   ]
  },
  {
   "cell_type": "code",
   "execution_count": 6,
   "id": "14bb6dea",
   "metadata": {
    "scrolled": true
   },
   "outputs": [
    {
     "data": {
      "text/html": [
       "<div>\n",
       "<style scoped>\n",
       "    .dataframe tbody tr th:only-of-type {\n",
       "        vertical-align: middle;\n",
       "    }\n",
       "\n",
       "    .dataframe tbody tr th {\n",
       "        vertical-align: top;\n",
       "    }\n",
       "\n",
       "    .dataframe thead th {\n",
       "        text-align: right;\n",
       "    }\n",
       "</style>\n",
       "<table border=\"1\" class=\"dataframe\">\n",
       "  <thead>\n",
       "    <tr style=\"text-align: right;\">\n",
       "      <th></th>\n",
       "      <th>Unnamed: 0</th>\n",
       "      <th>userid</th>\n",
       "      <th>username</th>\n",
       "      <th>acctdesc</th>\n",
       "      <th>location</th>\n",
       "      <th>following</th>\n",
       "      <th>followers</th>\n",
       "      <th>totaltweets</th>\n",
       "      <th>usercreatedts</th>\n",
       "      <th>tweetid</th>\n",
       "      <th>tweetcreatedts</th>\n",
       "      <th>retweetcount</th>\n",
       "      <th>text</th>\n",
       "      <th>hashtags</th>\n",
       "      <th>language</th>\n",
       "      <th>coordinates</th>\n",
       "      <th>favorite_count</th>\n",
       "      <th>extractedts</th>\n",
       "    </tr>\n",
       "  </thead>\n",
       "  <tbody>\n",
       "    <tr>\n",
       "      <th>0</th>\n",
       "      <td>0</td>\n",
       "      <td>16882774</td>\n",
       "      <td>Yaniela</td>\n",
       "      <td>Animal lover, supports those who fight injusti...</td>\n",
       "      <td>Hawaii</td>\n",
       "      <td>1158</td>\n",
       "      <td>392</td>\n",
       "      <td>88366</td>\n",
       "      <td>2008-10-21 07:34:04.000000</td>\n",
       "      <td>1509681950042198030</td>\n",
       "      <td>2022-04-01 00:00:00.000000</td>\n",
       "      <td>3412</td>\n",
       "      <td>⚡The Ukrainian Air Force would like to address...</td>\n",
       "      <td>[]</td>\n",
       "      <td>en</td>\n",
       "      <td>None</td>\n",
       "      <td>0</td>\n",
       "      <td>2022-04-01 00:44:20.097867</td>\n",
       "    </tr>\n",
       "    <tr>\n",
       "      <th>1</th>\n",
       "      <td>1</td>\n",
       "      <td>3205296069</td>\n",
       "      <td>gregffff</td>\n",
       "      <td>None</td>\n",
       "      <td>None</td>\n",
       "      <td>122</td>\n",
       "      <td>881</td>\n",
       "      <td>99853</td>\n",
       "      <td>2015-04-25 11:24:34.000000</td>\n",
       "      <td>1509681950151348229</td>\n",
       "      <td>2022-04-01 00:00:00.000000</td>\n",
       "      <td>100</td>\n",
       "      <td>Chernihiv oblast. Ukrainians welcome their lib...</td>\n",
       "      <td>[{'text': 'russianinvasion', 'indices': [77, 9...</td>\n",
       "      <td>en</td>\n",
       "      <td>None</td>\n",
       "      <td>0</td>\n",
       "      <td>2022-04-01 00:09:37.148770</td>\n",
       "    </tr>\n",
       "    <tr>\n",
       "      <th>2</th>\n",
       "      <td>2</td>\n",
       "      <td>1235940869812809728</td>\n",
       "      <td>ThanapornThon17</td>\n",
       "      <td>เล่นไวโอลิน\\nพูดภาษาจีน</td>\n",
       "      <td>None</td>\n",
       "      <td>231</td>\n",
       "      <td>72</td>\n",
       "      <td>5481</td>\n",
       "      <td>2020-03-06 14:52:01.000000</td>\n",
       "      <td>1509681950683926556</td>\n",
       "      <td>2022-04-01 00:00:00.000000</td>\n",
       "      <td>9</td>\n",
       "      <td>America 🇺🇸 is preparing for something worse th...</td>\n",
       "      <td>[{'text': 'RussianUkrainianWar', 'indices': [7...</td>\n",
       "      <td>en</td>\n",
       "      <td>None</td>\n",
       "      <td>0</td>\n",
       "      <td>2022-04-01 00:09:37.125654</td>\n",
       "    </tr>\n",
       "    <tr>\n",
       "      <th>3</th>\n",
       "      <td>3</td>\n",
       "      <td>1347985375566966784</td>\n",
       "      <td>I_Protest_2021</td>\n",
       "      <td>01000001 01101110 01101111 01101110 01111001 0...</td>\n",
       "      <td>International Web Zone</td>\n",
       "      <td>399</td>\n",
       "      <td>377</td>\n",
       "      <td>301</td>\n",
       "      <td>2021-01-09 19:15:44.000000</td>\n",
       "      <td>1509681951116046336</td>\n",
       "      <td>2022-04-01 00:00:00.000000</td>\n",
       "      <td>573</td>\n",
       "      <td>JUST IN: #Anonymous has hacked &amp;amp; released ...</td>\n",
       "      <td>[{'text': 'Anonymous', 'indices': [25, 35]}]</td>\n",
       "      <td>en</td>\n",
       "      <td>None</td>\n",
       "      <td>0</td>\n",
       "      <td>2022-04-01 00:31:39.674382</td>\n",
       "    </tr>\n",
       "    <tr>\n",
       "      <th>4</th>\n",
       "      <td>4</td>\n",
       "      <td>1505394816636846083</td>\n",
       "      <td>Marsh_Win_01</td>\n",
       "      <td>🌿@Pickaw @TWITTERPICKER 🌿Winning isn’t everyth...</td>\n",
       "      <td>Hunter Account</td>\n",
       "      <td>158</td>\n",
       "      <td>25</td>\n",
       "      <td>8982</td>\n",
       "      <td>2022-03-20 04:04:40.000000</td>\n",
       "      <td>1509681951304990720</td>\n",
       "      <td>2022-04-01 00:00:00.000000</td>\n",
       "      <td>190</td>\n",
       "      <td>***PUBLIC MINT NOW LIVE***\\n\\nFor \\n@billionai...</td>\n",
       "      <td>[]</td>\n",
       "      <td>en</td>\n",
       "      <td>None</td>\n",
       "      <td>0</td>\n",
       "      <td>2022-04-01 00:09:37.101459</td>\n",
       "    </tr>\n",
       "  </tbody>\n",
       "</table>\n",
       "</div>"
      ],
      "text/plain": [
       "   Unnamed: 0               userid         username  \\\n",
       "0           0             16882774          Yaniela   \n",
       "1           1           3205296069         gregffff   \n",
       "2           2  1235940869812809728  ThanapornThon17   \n",
       "3           3  1347985375566966784   I_Protest_2021   \n",
       "4           4  1505394816636846083     Marsh_Win_01   \n",
       "\n",
       "                                            acctdesc                location  \\\n",
       "0  Animal lover, supports those who fight injusti...                  Hawaii   \n",
       "1                                               None                    None   \n",
       "2                            เล่นไวโอลิน\\nพูดภาษาจีน                    None   \n",
       "3  01000001 01101110 01101111 01101110 01111001 0...  International Web Zone   \n",
       "4  🌿@Pickaw @TWITTERPICKER 🌿Winning isn’t everyth...          Hunter Account   \n",
       "\n",
       "   following  followers  totaltweets               usercreatedts  \\\n",
       "0       1158        392        88366  2008-10-21 07:34:04.000000   \n",
       "1        122        881        99853  2015-04-25 11:24:34.000000   \n",
       "2        231         72         5481  2020-03-06 14:52:01.000000   \n",
       "3        399        377          301  2021-01-09 19:15:44.000000   \n",
       "4        158         25         8982  2022-03-20 04:04:40.000000   \n",
       "\n",
       "               tweetid              tweetcreatedts  retweetcount  \\\n",
       "0  1509681950042198030  2022-04-01 00:00:00.000000          3412   \n",
       "1  1509681950151348229  2022-04-01 00:00:00.000000           100   \n",
       "2  1509681950683926556  2022-04-01 00:00:00.000000             9   \n",
       "3  1509681951116046336  2022-04-01 00:00:00.000000           573   \n",
       "4  1509681951304990720  2022-04-01 00:00:00.000000           190   \n",
       "\n",
       "                                                text  \\\n",
       "0  ⚡The Ukrainian Air Force would like to address...   \n",
       "1  Chernihiv oblast. Ukrainians welcome their lib...   \n",
       "2  America 🇺🇸 is preparing for something worse th...   \n",
       "3  JUST IN: #Anonymous has hacked &amp; released ...   \n",
       "4  ***PUBLIC MINT NOW LIVE***\\n\\nFor \\n@billionai...   \n",
       "\n",
       "                                            hashtags language coordinates  \\\n",
       "0                                                 []       en        None   \n",
       "1  [{'text': 'russianinvasion', 'indices': [77, 9...       en        None   \n",
       "2  [{'text': 'RussianUkrainianWar', 'indices': [7...       en        None   \n",
       "3       [{'text': 'Anonymous', 'indices': [25, 35]}]       en        None   \n",
       "4                                                 []       en        None   \n",
       "\n",
       "   favorite_count                 extractedts  \n",
       "0               0  2022-04-01 00:44:20.097867  \n",
       "1               0  2022-04-01 00:09:37.148770  \n",
       "2               0  2022-04-01 00:09:37.125654  \n",
       "3               0  2022-04-01 00:31:39.674382  \n",
       "4               0  2022-04-01 00:09:37.101459  "
      ]
     },
     "execution_count": 6,
     "metadata": {},
     "output_type": "execute_result"
    }
   ],
   "source": [
    "query = \"\"\"SELECT * from full_tweets  LIMIT 5\"\"\"\n",
    "df = pd.read_sql(query, conn)\n",
    "df"
   ]
  },
  {
   "cell_type": "code",
   "execution_count": 7,
   "id": "dc439cd0",
   "metadata": {},
   "outputs": [
    {
     "data": {
      "text/plain": [
       "['Unnamed: 0',\n",
       " 'userid',\n",
       " 'username',\n",
       " 'acctdesc',\n",
       " 'location',\n",
       " 'following',\n",
       " 'followers',\n",
       " 'totaltweets',\n",
       " 'usercreatedts',\n",
       " 'tweetid',\n",
       " 'tweetcreatedts',\n",
       " 'retweetcount',\n",
       " 'text',\n",
       " 'hashtags',\n",
       " 'language',\n",
       " 'coordinates',\n",
       " 'favorite_count',\n",
       " 'extractedts']"
      ]
     },
     "execution_count": 7,
     "metadata": {},
     "output_type": "execute_result"
    }
   ],
   "source": [
    "list(df.columns)"
   ]
  },
  {
   "cell_type": "code",
   "execution_count": null,
   "id": "35471d3a",
   "metadata": {},
   "outputs": [],
   "source": [
    "# df_combined_1 = pd.concat(dataframe_collection_1, axis=0)\n",
    "# df_combined_1['tweetcreatedts'] = pd.to_datetime(df_combined_1['tweetcreatedts'], errors='coerce')\n",
    "# df_combined_1['extractedts'] = pd.to_datetime(df_combined_1['extractedts'], errors='coerce') \n",
    "# df_combined_1.reset_index(inplace=True, drop=True)"
   ]
  },
  {
   "cell_type": "code",
   "execution_count": null,
   "id": "de044dac",
   "metadata": {},
   "outputs": [],
   "source": [
    "# df_combined.sort_values([\"tweetid\",\"extractedts\"], ascending=True,inplace=True)\n",
    "# df_combined.drop_duplicates([\"tweetid\"],keep='last',inplace=True)\n",
    "# df_combined.sort_values(['tweetcreatedts',\"tweetid\"], ascending=True,inplace=True) \n",
    "# df_combined.reset_index(drop=True, inplace=True)\n",
    "# gc.collect()"
   ]
  },
  {
   "cell_type": "code",
   "execution_count": 21,
   "id": "22fc8d29",
   "metadata": {},
   "outputs": [],
   "source": [
    "conn.close()"
   ]
  },
  {
   "cell_type": "markdown",
   "id": "0112fe37",
   "metadata": {},
   "source": [
    "## Load data from FILTERED source - Only 2022, no retweets, english only, at least one hashtag"
   ]
  },
  {
   "cell_type": "code",
   "execution_count": 112,
   "id": "5f7b66a6",
   "metadata": {},
   "outputs": [
    {
     "name": "stdout",
     "output_type": "stream",
     "text": [
      "Length of files: 300\n"
     ]
    }
   ],
   "source": [
    "csv_collection = []\n",
    "for dirname, _, filenames in os.walk('D:\\PENNSTATE_GIS\\CAPSTONE!\\Data_2'):\n",
    "    filenames.sort()\n",
    "    for filename in filenames:\n",
    "        fullpath = os.path.join(dirname, filename)\n",
    "        csv_collection.append(fullpath)\n",
    "print(\"Length of files:\", len(csv_collection))"
   ]
  },
  {
   "cell_type": "code",
   "execution_count": 113,
   "id": "c886011a",
   "metadata": {},
   "outputs": [],
   "source": [
    "# Connect to the SQLite database\n",
    "conn = sqlite3.connect(r'D:\\PENNSTATE_GIS\\CAPSTONE!\\sql_db_lite\\no_retweets.db')\n",
    "cursor = conn.cursor()"
   ]
  },
  {
   "cell_type": "markdown",
   "id": "d52de585",
   "metadata": {},
   "source": [
    "### Load into the database - commented out so not accidentialy loaded again"
   ]
  },
  {
   "cell_type": "code",
   "execution_count": 40,
   "id": "ebacda03",
   "metadata": {},
   "outputs": [],
   "source": [
    "# csv_collection.sort()\n",
    "# dataframe_collection_2 = []\n",
    "\n",
    "# for csvfile in csv_collection:\n",
    "#     try:\n",
    "#         with gzip.open(csvfile, 'rb') as f:\n",
    "#             df_file = pickle.load(f)\n",
    "# #         dataframe_collection_2.append(df_file)\n",
    "#         df_file.to_sql('no_retweets', conn, if_exists='append', index=False)\n",
    "#     except:\n",
    "#         pass\n",
    "\n",
    "# df = None\n",
    "# del df\n",
    "# gc.collect()\n",
    "\n",
    "# conn.commit()\n",
    "# conn.close()"
   ]
  },
  {
   "cell_type": "code",
   "execution_count": 19,
   "id": "f94b5b00",
   "metadata": {},
   "outputs": [],
   "source": [
    "# df_combined_2 = pd.concat(dataframe_collection_2, axis=0)\n",
    "# df_combined_2['tweetcreatedts'] = pd.to_datetime(df_combined_2['tweetcreatedts'], errors='coerce')\n",
    "# # df_combined['extractedts'] = pd.to_datetime(df_combined['extractedts'], errors='coerce') \n",
    "# df_combined_2.reset_index(inplace=True, drop=True)"
   ]
  },
  {
   "cell_type": "code",
   "execution_count": 23,
   "id": "0e039b44",
   "metadata": {},
   "outputs": [
    {
     "data": {
      "text/html": [
       "<div>\n",
       "<style scoped>\n",
       "    .dataframe tbody tr th:only-of-type {\n",
       "        vertical-align: middle;\n",
       "    }\n",
       "\n",
       "    .dataframe tbody tr th {\n",
       "        vertical-align: top;\n",
       "    }\n",
       "\n",
       "    .dataframe thead th {\n",
       "        text-align: right;\n",
       "    }\n",
       "</style>\n",
       "<table border=\"1\" class=\"dataframe\">\n",
       "  <thead>\n",
       "    <tr style=\"text-align: right;\">\n",
       "      <th></th>\n",
       "      <th>count(*)</th>\n",
       "    </tr>\n",
       "  </thead>\n",
       "  <tbody>\n",
       "    <tr>\n",
       "      <th>0</th>\n",
       "      <td>11952654</td>\n",
       "    </tr>\n",
       "  </tbody>\n",
       "</table>\n",
       "</div>"
      ],
      "text/plain": [
       "   count(*)\n",
       "0  11952654"
      ]
     },
     "execution_count": 23,
     "metadata": {},
     "output_type": "execute_result"
    }
   ],
   "source": [
    "query = \"\"\"SELECT count(*) from no_retweets\"\"\"\n",
    "pd.read_sql(query, conn)"
   ]
  },
  {
   "cell_type": "code",
   "execution_count": 46,
   "id": "0023b149",
   "metadata": {},
   "outputs": [
    {
     "data": {
      "text/html": [
       "<div>\n",
       "<style scoped>\n",
       "    .dataframe tbody tr th:only-of-type {\n",
       "        vertical-align: middle;\n",
       "    }\n",
       "\n",
       "    .dataframe tbody tr th {\n",
       "        vertical-align: top;\n",
       "    }\n",
       "\n",
       "    .dataframe thead th {\n",
       "        text-align: right;\n",
       "    }\n",
       "</style>\n",
       "<table border=\"1\" class=\"dataframe\">\n",
       "  <thead>\n",
       "    <tr style=\"text-align: right;\">\n",
       "      <th></th>\n",
       "      <th>location</th>\n",
       "      <th>tweetid</th>\n",
       "      <th>tweetcreatedts</th>\n",
       "      <th>retweetcount</th>\n",
       "      <th>text</th>\n",
       "      <th>hashtags</th>\n",
       "    </tr>\n",
       "  </thead>\n",
       "  <tbody>\n",
       "    <tr>\n",
       "      <th>0</th>\n",
       "      <td>None</td>\n",
       "      <td>1509681950151348229</td>\n",
       "      <td>2022-04-01 00:00:00</td>\n",
       "      <td>100</td>\n",
       "      <td>Chernihiv oblast. Ukrainians welcome their lib...</td>\n",
       "      <td>[{'text': 'russianinvasion', 'indices': [77, 9...</td>\n",
       "    </tr>\n",
       "    <tr>\n",
       "      <th>1</th>\n",
       "      <td>None</td>\n",
       "      <td>1509681952000937999</td>\n",
       "      <td>2022-04-01 00:00:00</td>\n",
       "      <td>1</td>\n",
       "      <td>The Amazing story of Former Sussex County Dela...</td>\n",
       "      <td>[{'text': 'Russia', 'indices': [208, 215]}, {'...</td>\n",
       "    </tr>\n",
       "    <tr>\n",
       "      <th>2</th>\n",
       "      <td>None</td>\n",
       "      <td>1509681953091457035</td>\n",
       "      <td>2022-04-01 00:00:00</td>\n",
       "      <td>3</td>\n",
       "      <td>The most basic tenet of what stability exists ...</td>\n",
       "      <td>[{'text': 'Ukraine', 'indices': [209, 217]}]</td>\n",
       "    </tr>\n",
       "    <tr>\n",
       "      <th>3</th>\n",
       "      <td>Kurdistan, Worldwide</td>\n",
       "      <td>1509681953418711050</td>\n",
       "      <td>2022-04-01 00:00:00</td>\n",
       "      <td>0</td>\n",
       "      <td>\"The image that Russia acquired over the past ...</td>\n",
       "      <td>[{'text': 'Putin', 'indices': [69, 75]}, {'tex...</td>\n",
       "    </tr>\n",
       "    <tr>\n",
       "      <th>4</th>\n",
       "      <td>Dubai</td>\n",
       "      <td>1509681953418752008</td>\n",
       "      <td>2022-04-01 00:00:00</td>\n",
       "      <td>5</td>\n",
       "      <td>#Russia’s President Vladimir #Putin says he ha...</td>\n",
       "      <td>[{'text': 'Russia', 'indices': [0, 7]}, {'text...</td>\n",
       "    </tr>\n",
       "  </tbody>\n",
       "</table>\n",
       "</div>"
      ],
      "text/plain": [
       "               location              tweetid       tweetcreatedts  \\\n",
       "0                  None  1509681950151348229  2022-04-01 00:00:00   \n",
       "1                  None  1509681952000937999  2022-04-01 00:00:00   \n",
       "2                  None  1509681953091457035  2022-04-01 00:00:00   \n",
       "3  Kurdistan, Worldwide  1509681953418711050  2022-04-01 00:00:00   \n",
       "4                 Dubai  1509681953418752008  2022-04-01 00:00:00   \n",
       "\n",
       "   retweetcount                                               text  \\\n",
       "0           100  Chernihiv oblast. Ukrainians welcome their lib...   \n",
       "1             1  The Amazing story of Former Sussex County Dela...   \n",
       "2             3  The most basic tenet of what stability exists ...   \n",
       "3             0  \"The image that Russia acquired over the past ...   \n",
       "4             5  #Russia’s President Vladimir #Putin says he ha...   \n",
       "\n",
       "                                            hashtags  \n",
       "0  [{'text': 'russianinvasion', 'indices': [77, 9...  \n",
       "1  [{'text': 'Russia', 'indices': [208, 215]}, {'...  \n",
       "2       [{'text': 'Ukraine', 'indices': [209, 217]}]  \n",
       "3  [{'text': 'Putin', 'indices': [69, 75]}, {'tex...  \n",
       "4  [{'text': 'Russia', 'indices': [0, 7]}, {'text...  "
      ]
     },
     "execution_count": 46,
     "metadata": {},
     "output_type": "execute_result"
    }
   ],
   "source": [
    "query = \"\"\"SELECT * from no_retweets LIMIT 5\"\"\"\n",
    "df = pd.read_sql(query, conn)\n",
    "df"
   ]
  },
  {
   "cell_type": "code",
   "execution_count": 96,
   "id": "311ba1bb",
   "metadata": {
    "scrolled": true
   },
   "outputs": [
    {
     "data": {
      "text/html": [
       "<div>\n",
       "<style scoped>\n",
       "    .dataframe tbody tr th:only-of-type {\n",
       "        vertical-align: middle;\n",
       "    }\n",
       "\n",
       "    .dataframe tbody tr th {\n",
       "        vertical-align: top;\n",
       "    }\n",
       "\n",
       "    .dataframe thead th {\n",
       "        text-align: right;\n",
       "    }\n",
       "</style>\n",
       "<table border=\"1\" class=\"dataframe\">\n",
       "  <thead>\n",
       "    <tr style=\"text-align: right;\">\n",
       "      <th></th>\n",
       "      <th>location</th>\n",
       "      <th>tweetid</th>\n",
       "      <th>tweetcreatedts</th>\n",
       "      <th>retweetcount</th>\n",
       "      <th>text</th>\n",
       "      <th>hashtags</th>\n",
       "    </tr>\n",
       "  </thead>\n",
       "  <tbody>\n",
       "    <tr>\n",
       "      <th>0</th>\n",
       "      <td>The Poletti Group LLC is a company out of Star...</td>\n",
       "      <td>1531787610854608898</td>\n",
       "      <td>2022-06-01 00:00:00</td>\n",
       "      <td>0</td>\n",
       "      <td>#ArchaicAgeofDarkess #tabletopgames #ttrpgcomm...</td>\n",
       "      <td>[{'text': 'ArchaicAgeofDarkess', 'indices': [0...</td>\n",
       "    </tr>\n",
       "    <tr>\n",
       "      <th>1</th>\n",
       "      <td>Florence, SC</td>\n",
       "      <td>1531787611337068544</td>\n",
       "      <td>2022-06-01 00:00:00</td>\n",
       "      <td>0</td>\n",
       "      <td>#dailymotivation  It doesn't matter how much y...</td>\n",
       "      <td>[{'text': 'dailymotivation', 'indices': [0, 16...</td>\n",
       "    </tr>\n",
       "    <tr>\n",
       "      <th>2</th>\n",
       "      <td>Beijing,China</td>\n",
       "      <td>1531787611978625027</td>\n",
       "      <td>2022-06-01 00:00:00</td>\n",
       "      <td>0</td>\n",
       "      <td>Still remember our #innovative #business model...</td>\n",
       "      <td>[{'text': 'innovative', 'indices': [19, 30]}, ...</td>\n",
       "    </tr>\n",
       "    <tr>\n",
       "      <th>3</th>\n",
       "      <td>None</td>\n",
       "      <td>1531787611978846209</td>\n",
       "      <td>2022-06-01 00:00:00</td>\n",
       "      <td>0</td>\n",
       "      <td>⚽️Algovenger World Cup Soccer⚽️\\n\\nLet’s Go!!!...</td>\n",
       "      <td>[{'text': 'USA', 'indices': [71, 75]}, {'text'...</td>\n",
       "    </tr>\n",
       "    <tr>\n",
       "      <th>4</th>\n",
       "      <td>Worldwide</td>\n",
       "      <td>1531787612431826945</td>\n",
       "      <td>2022-06-01 00:00:00</td>\n",
       "      <td>2</td>\n",
       "      <td>Assassins Creed Origins 60FPS Update Coming Th...</td>\n",
       "      <td>[{'text': 'AssassinsCreedOrigins', 'indices': ...</td>\n",
       "    </tr>\n",
       "    <tr>\n",
       "      <th>...</th>\n",
       "      <td>...</td>\n",
       "      <td>...</td>\n",
       "      <td>...</td>\n",
       "      <td>...</td>\n",
       "      <td>...</td>\n",
       "      <td>...</td>\n",
       "    </tr>\n",
       "    <tr>\n",
       "      <th>3159391</th>\n",
       "      <td>None</td>\n",
       "      <td>1564402420712583168</td>\n",
       "      <td>2022-08-29 23:59:36</td>\n",
       "      <td>0</td>\n",
       "      <td>@fannisjaye And all who violated the treaty re...</td>\n",
       "      <td>[{'text': 'BillBarr', 'indices': [64, 73]}, {'...</td>\n",
       "    </tr>\n",
       "    <tr>\n",
       "      <th>3159392</th>\n",
       "      <td>IG: earnyourleisure</td>\n",
       "      <td>1564402424663752707</td>\n",
       "      <td>2022-08-29 23:59:37</td>\n",
       "      <td>6</td>\n",
       "      <td>Comment your thoughts 💭. We are now live for M...</td>\n",
       "      <td>[{'text': 'china', 'indices': [124, 130]}, {'t...</td>\n",
       "    </tr>\n",
       "    <tr>\n",
       "      <th>3159393</th>\n",
       "      <td>None</td>\n",
       "      <td>1564402493748117506</td>\n",
       "      <td>2022-08-29 23:59:54</td>\n",
       "      <td>0</td>\n",
       "      <td>@USEnvoyIran regime occupying #Iran needs more...</td>\n",
       "      <td>[{'text': 'Iran', 'indices': [30, 35]}, {'text...</td>\n",
       "    </tr>\n",
       "    <tr>\n",
       "      <th>3159394</th>\n",
       "      <td>None</td>\n",
       "      <td>1564402519631175680</td>\n",
       "      <td>2022-08-30 00:00:00</td>\n",
       "      <td>0</td>\n",
       "      <td>The sunlight has waken up the city of #Shenzhe...</td>\n",
       "      <td>[{'text': 'Shenzhen', 'indices': [38, 47]}, {'...</td>\n",
       "    </tr>\n",
       "    <tr>\n",
       "      <th>3159395</th>\n",
       "      <td>None</td>\n",
       "      <td>1564402521074024449</td>\n",
       "      <td>2022-08-30 00:00:00</td>\n",
       "      <td>0</td>\n",
       "      <td>Hey #russia looks like you’re getting fucked h...</td>\n",
       "      <td>[{'text': 'russia', 'indices': [4, 11]}, {'tex...</td>\n",
       "    </tr>\n",
       "  </tbody>\n",
       "</table>\n",
       "<p>3159396 rows × 6 columns</p>\n",
       "</div>"
      ],
      "text/plain": [
       "                                                  location  \\\n",
       "0        The Poletti Group LLC is a company out of Star...   \n",
       "1                                             Florence, SC   \n",
       "2                                            Beijing,China   \n",
       "3                                                     None   \n",
       "4                                               Worldwide    \n",
       "...                                                    ...   \n",
       "3159391                                               None   \n",
       "3159392                                IG: earnyourleisure   \n",
       "3159393                                               None   \n",
       "3159394                                               None   \n",
       "3159395                                               None   \n",
       "\n",
       "                     tweetid       tweetcreatedts  retweetcount  \\\n",
       "0        1531787610854608898  2022-06-01 00:00:00             0   \n",
       "1        1531787611337068544  2022-06-01 00:00:00             0   \n",
       "2        1531787611978625027  2022-06-01 00:00:00             0   \n",
       "3        1531787611978846209  2022-06-01 00:00:00             0   \n",
       "4        1531787612431826945  2022-06-01 00:00:00             2   \n",
       "...                      ...                  ...           ...   \n",
       "3159391  1564402420712583168  2022-08-29 23:59:36             0   \n",
       "3159392  1564402424663752707  2022-08-29 23:59:37             6   \n",
       "3159393  1564402493748117506  2022-08-29 23:59:54             0   \n",
       "3159394  1564402519631175680  2022-08-30 00:00:00             0   \n",
       "3159395  1564402521074024449  2022-08-30 00:00:00             0   \n",
       "\n",
       "                                                      text  \\\n",
       "0        #ArchaicAgeofDarkess #tabletopgames #ttrpgcomm...   \n",
       "1        #dailymotivation  It doesn't matter how much y...   \n",
       "2        Still remember our #innovative #business model...   \n",
       "3        ⚽️Algovenger World Cup Soccer⚽️\\n\\nLet’s Go!!!...   \n",
       "4        Assassins Creed Origins 60FPS Update Coming Th...   \n",
       "...                                                    ...   \n",
       "3159391  @fannisjaye And all who violated the treaty re...   \n",
       "3159392  Comment your thoughts 💭. We are now live for M...   \n",
       "3159393  @USEnvoyIran regime occupying #Iran needs more...   \n",
       "3159394  The sunlight has waken up the city of #Shenzhe...   \n",
       "3159395  Hey #russia looks like you’re getting fucked h...   \n",
       "\n",
       "                                                  hashtags  \n",
       "0        [{'text': 'ArchaicAgeofDarkess', 'indices': [0...  \n",
       "1        [{'text': 'dailymotivation', 'indices': [0, 16...  \n",
       "2        [{'text': 'innovative', 'indices': [19, 30]}, ...  \n",
       "3        [{'text': 'USA', 'indices': [71, 75]}, {'text'...  \n",
       "4        [{'text': 'AssassinsCreedOrigins', 'indices': ...  \n",
       "...                                                    ...  \n",
       "3159391  [{'text': 'BillBarr', 'indices': [64, 73]}, {'...  \n",
       "3159392  [{'text': 'china', 'indices': [124, 130]}, {'t...  \n",
       "3159393  [{'text': 'Iran', 'indices': [30, 35]}, {'text...  \n",
       "3159394  [{'text': 'Shenzhen', 'indices': [38, 47]}, {'...  \n",
       "3159395  [{'text': 'russia', 'indices': [4, 11]}, {'tex...  \n",
       "\n",
       "[3159396 rows x 6 columns]"
      ]
     },
     "execution_count": 96,
     "metadata": {},
     "output_type": "execute_result"
    }
   ],
   "source": [
    "query = \"\"\"SELECT * from no_retweets\n",
    "            WHERE tweetcreatedts BETWEEN '2022-06-01 00:00:00' AND '2022-08-31 00:00:00'\"\"\"\n",
    "df = pd.read_sql(query, conn)\n",
    "df"
   ]
  },
  {
   "cell_type": "code",
   "execution_count": 97,
   "id": "9b32cfd9",
   "metadata": {},
   "outputs": [],
   "source": [
    "tids = df['tweetid'].to_list()"
   ]
  },
  {
   "cell_type": "code",
   "execution_count": null,
   "id": "77a596af",
   "metadata": {},
   "outputs": [],
   "source": [
    "# df_combined.sort_values([\"tweetid\",\"extractedts\"], ascending=True,inplace=True)\n",
    "# df_combined.drop_duplicates([\"tweetid\"],keep='last',inplace=True)\n",
    "# df_combined.sort_values(['tweetcreatedts',\"tweetid\"], ascending=True,inplace=True) \n",
    "# df_combined.reset_index(drop=True, inplace=True)\n",
    "# gc.collect()"
   ]
  },
  {
   "cell_type": "code",
   "execution_count": 37,
   "id": "3cc3f40d",
   "metadata": {},
   "outputs": [],
   "source": [
    "conn.close()"
   ]
  },
  {
   "cell_type": "markdown",
   "id": "3a76e4db",
   "metadata": {
    "papermill": {
     "duration": 0.012644,
     "end_time": "2023-06-15T03:30:08.213504",
     "exception": false,
     "start_time": "2023-06-15T03:30:08.200860",
     "status": "completed"
    },
    "tags": []
   },
   "source": [
    "## Free up some resources"
   ]
  },
  {
   "cell_type": "code",
   "execution_count": 17,
   "id": "13407b0c",
   "metadata": {
    "execution": {
     "iopub.execute_input": "2023-06-15T03:30:21.955742Z",
     "iopub.status.busy": "2023-06-15T03:30:21.954688Z",
     "iopub.status.idle": "2023-06-15T03:30:21.959844Z",
     "shell.execute_reply": "2023-06-15T03:30:21.959309Z"
    },
    "papermill": {
     "duration": 13.733824,
     "end_time": "2023-06-15T03:30:21.960041",
     "exception": false,
     "start_time": "2023-06-15T03:30:08.226217",
     "status": "completed"
    },
    "tags": []
   },
   "outputs": [
    {
     "data": {
      "text/plain": [
       "0"
      ]
     },
     "execution_count": 17,
     "metadata": {},
     "output_type": "execute_result"
    }
   ],
   "source": [
    "dataframe_collection_2 = None\n",
    "del dataframe_collection_2\n",
    "dataframe_collection_1 = None\n",
    "del dataframe_collection_1\n",
    "df_combined_2 = None\n",
    "del df_combined_2\n",
    "df = None\n",
    "del df\n",
    "full = None\n",
    "del full\n",
    "\n",
    "gc.collect()"
   ]
  },
  {
   "cell_type": "markdown",
   "id": "688f0e51",
   "metadata": {
    "papermill": {
     "duration": 0.013884,
     "end_time": "2023-06-15T03:34:26.959452",
     "exception": false,
     "start_time": "2023-06-15T03:34:26.945568",
     "status": "completed"
    },
    "tags": []
   },
   "source": [
    "## Let's get the tweet counts in a weekly basis"
   ]
  },
  {
   "cell_type": "code",
   "execution_count": 118,
   "id": "24ce2753",
   "metadata": {
    "execution": {
     "iopub.execute_input": "2023-06-15T03:34:26.991108Z",
     "iopub.status.busy": "2023-06-15T03:34:26.990561Z",
     "iopub.status.idle": "2023-06-15T03:34:44.674857Z",
     "shell.execute_reply": "2023-06-15T03:34:44.675436Z"
    },
    "papermill": {
     "duration": 17.701718,
     "end_time": "2023-06-15T03:34:44.675643",
     "exception": false,
     "start_time": "2023-06-15T03:34:26.973925",
     "status": "completed"
    },
    "scrolled": true,
    "tags": []
   },
   "outputs": [
    {
     "data": {
      "text/plain": [
       "tweetcreatedts\n",
       "2022-08-21    151872\n",
       "2022-08-28    170572\n",
       "2022-09-04    170744\n",
       "2022-09-11    189659\n",
       "2022-09-18    207937\n",
       "2022-09-25    224344\n",
       "2022-10-02    202504\n",
       "2022-10-09    208102\n",
       "2022-10-16    237861\n",
       "2022-10-23    173040\n",
       "2022-10-30    197686\n",
       "2022-11-06    165413\n",
       "2022-11-13    189730\n",
       "2022-11-20    205980\n",
       "2022-11-27    219933\n",
       "2022-12-04    179587\n",
       "2022-12-11    183810\n",
       "2022-12-18    170483\n",
       "2022-12-25    227479\n",
       "2023-01-01     22815\n",
       "Freq: W-SUN, Name: tweetid, dtype: int64"
      ]
     },
     "execution_count": 118,
     "metadata": {},
     "output_type": "execute_result"
    }
   ],
   "source": [
    "import matplotlib.pyplot as plt\n",
    "from matplotlib.ticker import StrMethodFormatter\n",
    "\n",
    "df_combined.set_index('tweetcreatedts', drop=False, inplace=True)\n",
    "df_combined.index = pd.to_datetime(df_combined.index)\n",
    "df_weekly_aggregated = df_combined['tweetid'].groupby(pd.Grouper(freq='1w')).count()\n",
    "df_weekly_aggregated.tail(20)"
   ]
  },
  {
   "cell_type": "markdown",
   "id": "9c40867d",
   "metadata": {
    "papermill": {
     "duration": 0.015318,
     "end_time": "2023-06-15T03:34:44.706671",
     "exception": false,
     "start_time": "2023-06-15T03:34:44.691353",
     "status": "completed"
    },
    "tags": []
   },
   "source": [
    "## Graph the per week tweet count - on FULL tweets, no subsetting"
   ]
  },
  {
   "cell_type": "code",
   "execution_count": 11,
   "id": "00556a47",
   "metadata": {
    "execution": {
     "iopub.execute_input": "2023-06-15T03:34:44.746061Z",
     "iopub.status.busy": "2023-06-15T03:34:44.745330Z",
     "iopub.status.idle": "2023-06-15T03:34:45.664709Z",
     "shell.execute_reply": "2023-06-15T03:34:45.665268Z"
    },
    "papermill": {
     "duration": 0.943313,
     "end_time": "2023-06-15T03:34:45.665478",
     "exception": false,
     "start_time": "2023-06-15T03:34:44.722165",
     "status": "completed"
    },
    "tags": []
   },
   "outputs": [
    {
     "data": {
      "image/png": "[encoded data removed]",
      "text/plain": [
       "<Figure size 2400x800 with 1 Axes>"
      ]
     },
     "metadata": {},
     "output_type": "display_data"
    }
   ],
   "source": [
    "ax = df_weekly_aggregated.plot(kind='bar', grid=False, figsize=(24,8), color='#86bf91', zorder=2, rot=45)\n",
    "\n",
    "ax.set_title(\"Tweets Created Per Week In Dataset\")\n",
    "ax.set_xlabel(\"Date\", labelpad=20, weight='bold', size=12)\n",
    "ax.set_ylabel(\"Tweets\", labelpad=20, weight='bold', size=12)\n",
    "\n",
    "# Format y-axis label\n",
    "ax.set_xticklabels([x.strftime(\"%b %d %Y\") for x in df_weekly_aggregated.index])\n",
    "ax.yaxis.set_major_formatter(StrMethodFormatter('{x:.0f}'))\n",
    "plt.show()"
   ]
  },
  {
   "cell_type": "markdown",
   "id": "cca8c230",
   "metadata": {},
   "source": [
    "## Graph the per week tweet count - on FILTERED tweets"
   ]
  },
  {
   "cell_type": "code",
   "execution_count": 119,
   "id": "f9f99e7b",
   "metadata": {},
   "outputs": [
    {
     "data": {
      "image/png": "[encoded data removed]",
      "text/plain": [
       "<Figure size 2400x800 with 1 Axes>"
      ]
     },
     "metadata": {},
     "output_type": "display_data"
    }
   ],
   "source": [
    "ax = df_weekly_aggregated.plot(kind='bar', grid=False, figsize=(24,8), color='#86bf91', zorder=2, rot=45)\n",
    "\n",
    "ax.set_title(\"Tweets Created Per Week In Dataset\")\n",
    "ax.set_xlabel(\"Date\", labelpad=20, weight='bold', size=12)\n",
    "ax.set_ylabel(\"Tweets\", labelpad=20, weight='bold', size=12)\n",
    "\n",
    "# Format y-axis label\n",
    "ax.set_xticklabels([x.strftime(\"%b %d %Y\") for x in df_weekly_aggregated.index])\n",
    "ax.yaxis.set_major_formatter(StrMethodFormatter('{x:.0f}'))\n",
    "plt.show()"
   ]
  },
  {
   "cell_type": "code",
   "execution_count": null,
   "id": "155b6f02",
   "metadata": {},
   "outputs": [],
   "source": []
  }
 ],
 "metadata": {
  "kernelspec": {
   "display_name": "Python 3 (ipykernel)",
   "language": "python",
   "name": "python3"
  },
  "language_info": {
   "codemirror_mode": {
    "name": "ipython",
    "version": 3
   },
   "file_extension": ".py",
   "mimetype": "text/x-python",
   "name": "python",
   "nbconvert_exporter": "python",
   "pygments_lexer": "ipython3",
   "version": "3.9.13"
  },
  "papermill": {
   "default_parameters": {},
   "duration": 2662.961903,
   "end_time": "2023-06-15T03:34:46.708903",
   "environment_variables": {},
   "exception": null,
   "input_path": "__notebook__.ipynb",
   "output_path": "__notebook__.ipynb",
   "parameters": {},
   "start_time": "2023-06-15T02:50:23.747000",
   "version": "2.3.3"
  }
 },
 "nbformat": 4,
 "nbformat_minor": 5
}
