{
 "cells": [
  {
   "cell_type": "markdown",
   "id": "b11947fc",
   "metadata": {
    "papermill": {
     "duration": 0.007361,
     "end_time": "2023-02-15T12:17:59.061697",
     "exception": false,
     "start_time": "2023-02-15T12:17:59.054336",
     "status": "completed"
    },
    "tags": []
   },
   "source": [
    "# Ukraine Tweets Named Entity Recognition (NER)"
   ]
  },
  {
   "cell_type": "markdown",
   "id": "57365b6c",
   "metadata": {
    "papermill": {
     "duration": 0.003241,
     "end_time": "2023-02-15T12:17:59.068692",
     "exception": false,
     "start_time": "2023-02-15T12:17:59.065451",
     "status": "completed"
    },
    "tags": []
   },
   "source": [
    "Named entity recognition (NER) is a subfield of natural language processing (NLP) that involves the identification and extraction of named entities from text. Named entities are real-world objects such as people, organizations, locations, dates, times, quantities, and other types of named entities.\n",
    "\n",
    "NER algorithms typically use machine learning and statistical models to analyze text and identify spans of text that correspond to named entities. These models can be trained on annotated text data, where human annotators have labeled the named entities in the text.\n",
    "\n",
    "Once a NER model has identified the named entities in a text, it can be used to perform various tasks, such as information extraction, text classification, and question answering. For example, a NER model could be used to identify the names of companies mentioned in news articles or to extract the dates and times of events from social media posts."
   ]
  },
  {
   "cell_type": "code",
   "execution_count": null,
   "id": "2206ed70",
   "metadata": {
    "execution": {
     "iopub.execute_input": "2023-02-15T12:17:59.077908Z",
     "iopub.status.busy": "2023-02-15T12:17:59.077404Z",
     "iopub.status.idle": "2023-02-15T12:18:41.191165Z",
     "shell.execute_reply": "2023-02-15T12:18:41.189497Z"
    },
    "papermill": {
     "duration": 42.122045,
     "end_time": "2023-02-15T12:18:41.194313",
     "exception": false,
     "start_time": "2023-02-15T12:17:59.072268",
     "status": "completed"
    },
    "tags": []
   },
   "outputs": [],
   "source": [
    "# !pip install spacy\n",
    "# !python -m spacy download en_core_web_sm"
   ]
  },
  {
   "cell_type": "code",
   "execution_count": 25,
   "id": "f5037186",
   "metadata": {
    "_cell_guid": "b1076dfc-b9ad-4769-8c92-a6c4dae69d19",
    "_uuid": "8f2839f25d086af736a60e9eeb907d3b93b6e0e5",
    "execution": {
     "iopub.execute_input": "2023-02-15T12:18:41.207912Z",
     "iopub.status.busy": "2023-02-15T12:18:41.207429Z",
     "iopub.status.idle": "2023-02-15T12:18:46.911747Z",
     "shell.execute_reply": "2023-02-15T12:18:46.910590Z"
    },
    "papermill": {
     "duration": 5.714664,
     "end_time": "2023-02-15T12:18:46.914613",
     "exception": false,
     "start_time": "2023-02-15T12:18:41.199949",
     "status": "completed"
    },
    "tags": []
   },
   "outputs": [],
   "source": [
    "import os\n",
    "import csv\n",
    "import gzip\n",
    "import gc\n",
    "import numpy as np\n",
    "import pandas as pd\n",
    "import sqlite3\n",
    "from tqdm import tqdm\n",
    "import string\n",
    "import re\n",
    "from tqdm import tqdm\n",
    "import matplotlib.pyplot as plt\n",
    "import seaborn as sns\n",
    "import plotly.express as px\n",
    "# NLP---\n",
    "import re\n",
    "import nltk\n",
    "from nltk.corpus import stopwords\n",
    "from nltk.tokenize import word_tokenize\n",
    "import spacy\n",
    "import translators as ts          \n",
    "from transliterate import translit, get_available_language_codes\n",
    "#-------\n",
    "from multiprocessing import Pool, cpu_count\n",
    "from IPython.display import clear_output"
   ]
  },
  {
   "cell_type": "code",
   "execution_count": 2,
   "id": "d9955968",
   "metadata": {
    "execution": {
     "iopub.execute_input": "2023-02-15T12:18:46.927984Z",
     "iopub.status.busy": "2023-02-15T12:18:46.927172Z",
     "iopub.status.idle": "2023-02-15T12:18:47.785063Z",
     "shell.execute_reply": "2023-02-15T12:18:47.783728Z"
    },
    "papermill": {
     "duration": 0.867544,
     "end_time": "2023-02-15T12:18:47.787838",
     "exception": false,
     "start_time": "2023-02-15T12:18:46.920294",
     "status": "completed"
    },
    "scrolled": true,
    "tags": []
   },
   "outputs": [],
   "source": [
    "nlp = spacy.load('en_core_web_sm')\n",
    "# Download the stopwords from NLTK\n",
    "# nltk.download('stopwords')"
   ]
  },
  {
   "cell_type": "markdown",
   "id": "e92f5425",
   "metadata": {},
   "source": [
    "## Load in the desired tweets"
   ]
  },
  {
   "cell_type": "code",
   "execution_count": null,
   "id": "4ca105f9",
   "metadata": {},
   "outputs": [],
   "source": [
    "# Connect to the SQLite database\n",
    "conn = sqlite3.connect(r'D:\\PENNSTATE_GIS\\CAPSTONE!\\sql_db_lite\\no_retweets.db')\n",
    "# cursor = conn.cursor()"
   ]
  },
  {
   "cell_type": "code",
   "execution_count": null,
   "id": "34cd0ffa",
   "metadata": {},
   "outputs": [],
   "source": [
    "query = \"\"\"SELECT * from no_retweets\n",
    "            WHERE tweetcreatedts BETWEEN '2022-06-01 00:00:00' AND '2022-06-02 00:00:00'\"\"\"\n",
    "df = pd.read_sql(query, conn)\n",
    "df.head()"
   ]
  },
  {
   "cell_type": "code",
   "execution_count": null,
   "id": "efa1fef7",
   "metadata": {},
   "outputs": [],
   "source": [
    "conn.close()"
   ]
  },
  {
   "cell_type": "markdown",
   "id": "56370e83",
   "metadata": {},
   "source": [
    "## Data Preprocessing - Data Cleaning"
   ]
  },
  {
   "cell_type": "code",
   "execution_count": 30,
   "id": "5f217e37",
   "metadata": {},
   "outputs": [],
   "source": [
    "def preprocess_tweet(tweet):\n",
    "    # Make the tweet lowercase\n",
    "    tweet = tweet.lower()\n",
    "    \n",
    "    # Remove urls\n",
    "    tweet = re.sub(r\"http\\S+|www\\S+|https\\S+\", '', tweet, flags=re.MULTILINE)\n",
    "    \n",
    "    # Remove user @ references and '#' from tweet\n",
    "    tweet = re.sub(r'\\@\\w+|\\#','', tweet)\n",
    "    \n",
    "#     #remove text in square brackets\n",
    "#     tweet = re.sub(r'\\[.*?\\]', '', tweet)\n",
    "    \n",
    "    # Remove punctuation\n",
    "    tweet = re.sub(r'[^\\w\\s]', '', tweet)\n",
    "    \n",
    "    # Remove Emojis\n",
    "    tweet = tweet.encode('ascii', 'ignore').decode('ascii')\n",
    "\n",
    "    # Remove stopwords\n",
    "    stop_words = set(stopwords.words('english'))\n",
    "    tokens = word_tokenize(tweet)\n",
    "    filtered_tweet = [i for i in tokens if not i in stop_words]\n",
    "    \n",
    "    # Remove digits and words with digits\n",
    "    filtered_tweet = [i for i in filtered_tweet if not any(j.isdigit() for j in i)]\n",
    "    \n",
    "    # Joining back the list of words to form a processed tweet\n",
    "    tweet = ' '.join(filtered_tweet)\n",
    "\n",
    "    return tweet"
   ]
  },
  {
   "cell_type": "code",
   "execution_count": null,
   "id": "8ecceb85",
   "metadata": {},
   "outputs": [],
   "source": [
    "%%time\n",
    "text_cleaned = df.text.apply(lambda x: preprocess_tweet(x)).to_list()"
   ]
  },
  {
   "cell_type": "code",
   "execution_count": null,
   "id": "08248526",
   "metadata": {},
   "outputs": [],
   "source": [
    "df['text'][3]"
   ]
  },
  {
   "cell_type": "code",
   "execution_count": null,
   "id": "157c4e11",
   "metadata": {},
   "outputs": [],
   "source": [
    "text_cleaned[3]"
   ]
  },
  {
   "cell_type": "markdown",
   "id": "a4bd78dc",
   "metadata": {},
   "source": [
    "## Named entity recognition (NER) function"
   ]
  },
  {
   "cell_type": "code",
   "execution_count": 31,
   "id": "4de735a4",
   "metadata": {},
   "outputs": [],
   "source": [
    "def extract_entitites(input: pd.DataFrame) -> pd.DataFrame:\n",
    "    events_slice=[]\n",
    "    \n",
    "    for i, row in input.iterrows():\n",
    "        doc = nlp(row.text)\n",
    "        for ent in doc.ents: # This doc property is used for the named entities in the document. \n",
    "        #If the entity recognizer has been applied, this property will return a tuple of named entity span objects.\n",
    "            events_slice += [[ent.text, ent.label_, row.tweetid, 1]]\n",
    "    return events_slice"
   ]
  },
  {
   "cell_type": "markdown",
   "id": "cf456746",
   "metadata": {},
   "source": [
    "## Extract, Preprocess, and Extract Named Entities Workflow - iterative to save memory"
   ]
  },
  {
   "cell_type": "code",
   "execution_count": null,
   "id": "d29f87ff",
   "metadata": {},
   "outputs": [],
   "source": [
    "def execute_workflow(dates: str) -> pd.DataFrame():\n",
    "    # Connect to the SQLite database\n",
    "    conn = sqlite3.connect(r'D:\\PENNSTATE_GIS\\CAPSTONE!\\sql_db_lite\\no_retweets.db')\n",
    "    \n",
    "    query = \"\"\"SELECT * from no_retweets\n",
    "            WHERE tweetcreatedts BETWEEN '{}' AND '{}'\"\"\"\n",
    "    query = query.format(dates[0], dates[1])\n",
    "    \n",
    "    df = pd.read_sql(query, conn)\n",
    "    conn.close()\n",
    "    \n",
    "    # Process/clean the tweets\n",
    "    text_cleaned = df.text.apply(lambda x: preprocess_tweet(x)).to_list()\n",
    "    df['text'] = text_cleaned\n",
    "    \n",
    "    # NER function\n",
    "    ne_data=pd.DataFrame(data=extract_entitites(df),columns=['named_entity','label', 'tweetid', 'count'])\n",
    "    \n",
    "    # Load to db\n",
    "    conn = sqlite3.connect(r'D:\\PENNSTATE_GIS\\CAPSTONE!\\sql_db_lite\\ner_labels_id.db')\n",
    "    \n",
    "    ne_data.to_sql('ner_labels_id', conn, if_exists='append', index=False)\n",
    "    \n",
    "    conn.close()\n",
    "    \n",
    "    dates_done = \"Last dates done: \" + dates[0] + \" TO \" + dates[1]\n",
    "    \n",
    "    return dates_done"
   ]
  },
  {
   "cell_type": "code",
   "execution_count": 28,
   "id": "35130788",
   "metadata": {
    "scrolled": true
   },
   "outputs": [],
   "source": [
    "# Define start and end dates\n",
    "start_date = '2022-06-01'\n",
    "end_date = '2022-08-31'\n",
    "\n",
    "# Generate date range\n",
    "dates = pd.date_range(start_date, end_date, freq='D')\n",
    "\n",
    "# Convert to desired string format\n",
    "date_strings = dates.strftime('%Y-%m-%d %H:%M:%S').tolist()\n",
    "\n",
    "date_list = []\n",
    "\n",
    "# Create a list of lists with sequential dates\n",
    "date_pairs = [[date_strings[i], date_strings[i + 1]] for i in range(len(date_strings) - 1)]"
   ]
  },
  {
   "cell_type": "code",
   "execution_count": 29,
   "id": "b0a7f26f",
   "metadata": {
    "scrolled": true
   },
   "outputs": [
    {
     "data": {
      "text/plain": [
       "[['2022-06-01 00:00:00', '2022-06-02 00:00:00'],\n",
       " ['2022-06-02 00:00:00', '2022-06-03 00:00:00'],\n",
       " ['2022-06-03 00:00:00', '2022-06-04 00:00:00'],\n",
       " ['2022-06-04 00:00:00', '2022-06-05 00:00:00'],\n",
       " ['2022-06-05 00:00:00', '2022-06-06 00:00:00'],\n",
       " ['2022-06-06 00:00:00', '2022-06-07 00:00:00'],\n",
       " ['2022-06-07 00:00:00', '2022-06-08 00:00:00'],\n",
       " ['2022-06-08 00:00:00', '2022-06-09 00:00:00'],\n",
       " ['2022-06-09 00:00:00', '2022-06-10 00:00:00'],\n",
       " ['2022-06-10 00:00:00', '2022-06-11 00:00:00'],\n",
       " ['2022-06-11 00:00:00', '2022-06-12 00:00:00'],\n",
       " ['2022-06-12 00:00:00', '2022-06-13 00:00:00'],\n",
       " ['2022-06-13 00:00:00', '2022-06-14 00:00:00'],\n",
       " ['2022-06-14 00:00:00', '2022-06-15 00:00:00'],\n",
       " ['2022-06-15 00:00:00', '2022-06-16 00:00:00'],\n",
       " ['2022-06-16 00:00:00', '2022-06-17 00:00:00'],\n",
       " ['2022-06-17 00:00:00', '2022-06-18 00:00:00'],\n",
       " ['2022-06-18 00:00:00', '2022-06-19 00:00:00'],\n",
       " ['2022-06-19 00:00:00', '2022-06-20 00:00:00'],\n",
       " ['2022-06-20 00:00:00', '2022-06-21 00:00:00'],\n",
       " ['2022-06-21 00:00:00', '2022-06-22 00:00:00'],\n",
       " ['2022-06-22 00:00:00', '2022-06-23 00:00:00'],\n",
       " ['2022-06-23 00:00:00', '2022-06-24 00:00:00'],\n",
       " ['2022-06-24 00:00:00', '2022-06-25 00:00:00'],\n",
       " ['2022-06-25 00:00:00', '2022-06-26 00:00:00'],\n",
       " ['2022-06-26 00:00:00', '2022-06-27 00:00:00'],\n",
       " ['2022-06-27 00:00:00', '2022-06-28 00:00:00'],\n",
       " ['2022-06-28 00:00:00', '2022-06-29 00:00:00'],\n",
       " ['2022-06-29 00:00:00', '2022-06-30 00:00:00'],\n",
       " ['2022-06-30 00:00:00', '2022-07-01 00:00:00'],\n",
       " ['2022-07-01 00:00:00', '2022-07-02 00:00:00'],\n",
       " ['2022-07-02 00:00:00', '2022-07-03 00:00:00'],\n",
       " ['2022-07-03 00:00:00', '2022-07-04 00:00:00'],\n",
       " ['2022-07-04 00:00:00', '2022-07-05 00:00:00'],\n",
       " ['2022-07-05 00:00:00', '2022-07-06 00:00:00'],\n",
       " ['2022-07-06 00:00:00', '2022-07-07 00:00:00'],\n",
       " ['2022-07-07 00:00:00', '2022-07-08 00:00:00'],\n",
       " ['2022-07-08 00:00:00', '2022-07-09 00:00:00'],\n",
       " ['2022-07-09 00:00:00', '2022-07-10 00:00:00'],\n",
       " ['2022-07-10 00:00:00', '2022-07-11 00:00:00'],\n",
       " ['2022-07-11 00:00:00', '2022-07-12 00:00:00'],\n",
       " ['2022-07-12 00:00:00', '2022-07-13 00:00:00'],\n",
       " ['2022-07-13 00:00:00', '2022-07-14 00:00:00'],\n",
       " ['2022-07-14 00:00:00', '2022-07-15 00:00:00'],\n",
       " ['2022-07-15 00:00:00', '2022-07-16 00:00:00'],\n",
       " ['2022-07-16 00:00:00', '2022-07-17 00:00:00'],\n",
       " ['2022-07-17 00:00:00', '2022-07-18 00:00:00'],\n",
       " ['2022-07-18 00:00:00', '2022-07-19 00:00:00'],\n",
       " ['2022-07-19 00:00:00', '2022-07-20 00:00:00'],\n",
       " ['2022-07-20 00:00:00', '2022-07-21 00:00:00'],\n",
       " ['2022-07-21 00:00:00', '2022-07-22 00:00:00'],\n",
       " ['2022-07-22 00:00:00', '2022-07-23 00:00:00'],\n",
       " ['2022-07-23 00:00:00', '2022-07-24 00:00:00'],\n",
       " ['2022-07-24 00:00:00', '2022-07-25 00:00:00'],\n",
       " ['2022-07-25 00:00:00', '2022-07-26 00:00:00'],\n",
       " ['2022-07-26 00:00:00', '2022-07-27 00:00:00'],\n",
       " ['2022-07-27 00:00:00', '2022-07-28 00:00:00'],\n",
       " ['2022-07-28 00:00:00', '2022-07-29 00:00:00'],\n",
       " ['2022-07-29 00:00:00', '2022-07-30 00:00:00'],\n",
       " ['2022-07-30 00:00:00', '2022-07-31 00:00:00'],\n",
       " ['2022-07-31 00:00:00', '2022-08-01 00:00:00'],\n",
       " ['2022-08-01 00:00:00', '2022-08-02 00:00:00'],\n",
       " ['2022-08-02 00:00:00', '2022-08-03 00:00:00'],\n",
       " ['2022-08-03 00:00:00', '2022-08-04 00:00:00'],\n",
       " ['2022-08-04 00:00:00', '2022-08-05 00:00:00'],\n",
       " ['2022-08-05 00:00:00', '2022-08-06 00:00:00'],\n",
       " ['2022-08-06 00:00:00', '2022-08-07 00:00:00'],\n",
       " ['2022-08-07 00:00:00', '2022-08-08 00:00:00'],\n",
       " ['2022-08-08 00:00:00', '2022-08-09 00:00:00'],\n",
       " ['2022-08-09 00:00:00', '2022-08-10 00:00:00'],\n",
       " ['2022-08-10 00:00:00', '2022-08-11 00:00:00'],\n",
       " ['2022-08-11 00:00:00', '2022-08-12 00:00:00'],\n",
       " ['2022-08-12 00:00:00', '2022-08-13 00:00:00'],\n",
       " ['2022-08-13 00:00:00', '2022-08-14 00:00:00'],\n",
       " ['2022-08-14 00:00:00', '2022-08-15 00:00:00'],\n",
       " ['2022-08-15 00:00:00', '2022-08-16 00:00:00'],\n",
       " ['2022-08-16 00:00:00', '2022-08-17 00:00:00'],\n",
       " ['2022-08-17 00:00:00', '2022-08-18 00:00:00'],\n",
       " ['2022-08-18 00:00:00', '2022-08-19 00:00:00'],\n",
       " ['2022-08-19 00:00:00', '2022-08-20 00:00:00'],\n",
       " ['2022-08-20 00:00:00', '2022-08-21 00:00:00'],\n",
       " ['2022-08-21 00:00:00', '2022-08-22 00:00:00'],\n",
       " ['2022-08-22 00:00:00', '2022-08-23 00:00:00'],\n",
       " ['2022-08-23 00:00:00', '2022-08-24 00:00:00'],\n",
       " ['2022-08-24 00:00:00', '2022-08-25 00:00:00'],\n",
       " ['2022-08-25 00:00:00', '2022-08-26 00:00:00'],\n",
       " ['2022-08-26 00:00:00', '2022-08-27 00:00:00'],\n",
       " ['2022-08-27 00:00:00', '2022-08-28 00:00:00'],\n",
       " ['2022-08-28 00:00:00', '2022-08-29 00:00:00'],\n",
       " ['2022-08-29 00:00:00', '2022-08-30 00:00:00'],\n",
       " ['2022-08-30 00:00:00', '2022-08-31 00:00:00']]"
      ]
     },
     "execution_count": 29,
     "metadata": {},
     "output_type": "execute_result"
    }
   ],
   "source": [
    "date_pairs"
   ]
  },
  {
   "cell_type": "code",
   "execution_count": null,
   "id": "15a81627",
   "metadata": {},
   "outputs": [],
   "source": [
    "%%time\n",
    "for dates in date_pairs:\n",
    "    clear_output(wait=True)\n",
    "    dates_done = execute_workflow(dates)\n",
    "    \n",
    "    display(dates_done)"
   ]
  },
  {
   "cell_type": "code",
   "execution_count": 5,
   "id": "d23ae91e",
   "metadata": {},
   "outputs": [],
   "source": [
    "# Connect to the SQLite database\n",
    "conn = sqlite3.connect(r'D:\\PENNSTATE_GIS\\CAPSTONE!\\sql_db_lite\\ner_labels_id.db')\n",
    "# cursor = conn.cursor()"
   ]
  },
  {
   "cell_type": "code",
   "execution_count": 6,
   "id": "1c633afc",
   "metadata": {},
   "outputs": [],
   "source": [
    "query = \"\"\"SELECT * from ner_labels_id\"\"\"\n",
    "ne_data = pd.read_sql(query, conn)\n",
    "conn.close()"
   ]
  },
  {
   "cell_type": "code",
   "execution_count": 7,
   "id": "3f830311",
   "metadata": {},
   "outputs": [
    {
     "data": {
      "text/html": [
       "<div>\n",
       "<style scoped>\n",
       "    .dataframe tbody tr th:only-of-type {\n",
       "        vertical-align: middle;\n",
       "    }\n",
       "\n",
       "    .dataframe tbody tr th {\n",
       "        vertical-align: top;\n",
       "    }\n",
       "\n",
       "    .dataframe thead th {\n",
       "        text-align: right;\n",
       "    }\n",
       "</style>\n",
       "<table border=\"1\" class=\"dataframe\">\n",
       "  <thead>\n",
       "    <tr style=\"text-align: right;\">\n",
       "      <th></th>\n",
       "      <th>named_entity</th>\n",
       "      <th>label</th>\n",
       "      <th>tweetid</th>\n",
       "      <th>count</th>\n",
       "    </tr>\n",
       "  </thead>\n",
       "  <tbody>\n",
       "    <tr>\n",
       "      <th>0</th>\n",
       "      <td>tomorrow</td>\n",
       "      <td>DATE</td>\n",
       "      <td>1531787610854608898</td>\n",
       "      <td>1</td>\n",
       "    </tr>\n",
       "    <tr>\n",
       "      <th>1</th>\n",
       "      <td>thursday</td>\n",
       "      <td>DATE</td>\n",
       "      <td>1531787612431826945</td>\n",
       "      <td>1</td>\n",
       "    </tr>\n",
       "    <tr>\n",
       "      <th>2</th>\n",
       "      <td>sony</td>\n",
       "      <td>ORG</td>\n",
       "      <td>1531787612431826945</td>\n",
       "      <td>1</td>\n",
       "    </tr>\n",
       "    <tr>\n",
       "      <th>3</th>\n",
       "      <td>russian</td>\n",
       "      <td>NORP</td>\n",
       "      <td>1531787613568389125</td>\n",
       "      <td>1</td>\n",
       "    </tr>\n",
       "    <tr>\n",
       "      <th>4</th>\n",
       "      <td>russia</td>\n",
       "      <td>GPE</td>\n",
       "      <td>1531787613568389125</td>\n",
       "      <td>1</td>\n",
       "    </tr>\n",
       "    <tr>\n",
       "      <th>...</th>\n",
       "      <td>...</td>\n",
       "      <td>...</td>\n",
       "      <td>...</td>\n",
       "      <td>...</td>\n",
       "    </tr>\n",
       "    <tr>\n",
       "      <th>5645219</th>\n",
       "      <td>russian</td>\n",
       "      <td>NORP</td>\n",
       "      <td>1564764876555296770</td>\n",
       "      <td>1</td>\n",
       "    </tr>\n",
       "    <tr>\n",
       "      <th>5645220</th>\n",
       "      <td>russia</td>\n",
       "      <td>GPE</td>\n",
       "      <td>1564764906859012097</td>\n",
       "      <td>1</td>\n",
       "    </tr>\n",
       "    <tr>\n",
       "      <th>5645221</th>\n",
       "      <td>british</td>\n",
       "      <td>NORP</td>\n",
       "      <td>1564764906859012097</td>\n",
       "      <td>1</td>\n",
       "    </tr>\n",
       "    <tr>\n",
       "      <th>5645222</th>\n",
       "      <td>lithuania</td>\n",
       "      <td>GPE</td>\n",
       "      <td>1564764908763349003</td>\n",
       "      <td>1</td>\n",
       "    </tr>\n",
       "    <tr>\n",
       "      <th>5645223</th>\n",
       "      <td>tens thousands</td>\n",
       "      <td>CARDINAL</td>\n",
       "      <td>1564764908763349003</td>\n",
       "      <td>1</td>\n",
       "    </tr>\n",
       "  </tbody>\n",
       "</table>\n",
       "<p>5645224 rows × 4 columns</p>\n",
       "</div>"
      ],
      "text/plain": [
       "           named_entity     label              tweetid  count\n",
       "0              tomorrow      DATE  1531787610854608898      1\n",
       "1              thursday      DATE  1531787612431826945      1\n",
       "2                  sony       ORG  1531787612431826945      1\n",
       "3               russian      NORP  1531787613568389125      1\n",
       "4                russia       GPE  1531787613568389125      1\n",
       "...                 ...       ...                  ...    ...\n",
       "5645219         russian      NORP  1564764876555296770      1\n",
       "5645220          russia       GPE  1564764906859012097      1\n",
       "5645221         british      NORP  1564764906859012097      1\n",
       "5645222       lithuania       GPE  1564764908763349003      1\n",
       "5645223  tens thousands  CARDINAL  1564764908763349003      1\n",
       "\n",
       "[5645224 rows x 4 columns]"
      ]
     },
     "execution_count": 7,
     "metadata": {},
     "output_type": "execute_result"
    }
   ],
   "source": [
    "ne_data"
   ]
  },
  {
   "cell_type": "code",
   "execution_count": null,
   "id": "e240a2b0",
   "metadata": {},
   "outputs": [],
   "source": [
    "ne_data_grouped2=ne_data.groupby(['tweetid'],as_index=False).sum().sort_values('count',ascending=False).reset_index(drop=True)\n",
    "ne_data_grouped2.head(5)"
   ]
  },
  {
   "cell_type": "code",
   "execution_count": null,
   "id": "b4ca49c3",
   "metadata": {},
   "outputs": [],
   "source": [
    "label_grouped=ne_data.groupby(['label'],as_index=False).sum().sort_values('count',ascending=False).reset_index(drop=True)\n",
    "label_grouped['pcnt'] = [round(x/label_grouped['count'].sum()*100, 2) for x in label_grouped['count']]\n",
    "\n",
    "fig = px.bar(label_grouped, x='label', y='pcnt',text_auto=True, labels={\"label\":\"Label\", \"pcnt\":\"Percent\"})\n",
    "fig.update_layout(\n",
    "    title={\n",
    "        'text': \"Extracted Named Entities from Text (percent of total)\",\n",
    "        'x':0.5,\n",
    "        'font_size':26,\n",
    "        'xanchor': 'center',\n",
    "        'yanchor': 'top'}\n",
    ")\n",
    "fig.show()"
   ]
  },
  {
   "cell_type": "code",
   "execution_count": null,
   "id": "56cb20cf",
   "metadata": {},
   "outputs": [],
   "source": [
    "# The \"pcnt\" column is calculated by dividing the count by the sum of counts for each label category. \n",
    "# This ensures that the percentages are calculated correctly for each label category.\n",
    "\n",
    "label_grouped = ne_data[ne_data['label'].isin(['GPE', 'LOC'])].groupby(['named_entity', 'label'], as_index=False).sum()\n",
    "label_grouped['pcnt'] = round(label_grouped['count'] / label_grouped.groupby('label')['count'].transform('sum') * 100, 2)\n",
    "label_grouped = label_grouped.sort_values('pcnt', ascending=False)\n",
    "\n",
    "fig = px.bar(label_grouped.head(25), x='named_entity', y='pcnt', text='pcnt',\n",
    "             labels={\"label\": \"Label\", \"pcnt\": \"Percent\"}, color='label') # color_discrete_map={'GPE': 'blue', 'LOC': 'red'}\n",
    "fig.update_layout(\n",
    "    title={\n",
    "        'text': \"Extracted named entities from text (percent of total)\",\n",
    "        'x': 0.5,\n",
    "        'font_size': 26,\n",
    "        'xanchor': 'center',\n",
    "        'yanchor': 'top'}\n",
    ")\n",
    "fig.show()"
   ]
  },
  {
   "cell_type": "code",
   "execution_count": null,
   "id": "2f67bf6b",
   "metadata": {},
   "outputs": [],
   "source": [
    "# Connect to the SQLite database\n",
    "conn = sqlite3.connect(r'D:\\PENNSTATE_GIS\\CAPSTONE!\\sql_db_lite\\no_retweets.db')\n",
    "# cursor = conn.cursor()"
   ]
  },
  {
   "cell_type": "code",
   "execution_count": null,
   "id": "5aa8af8f",
   "metadata": {
    "scrolled": true
   },
   "outputs": [],
   "source": [
    "query = \"\"\"SELECT * from no_retweets\n",
    "            WHERE tweetcreatedts BETWEEN '2022-06-01 00:00:00' AND '2022-08-31 00:00:00'\"\"\"\n",
    "df = pd.read_sql(query, conn)\n",
    "df"
   ]
  },
  {
   "cell_type": "code",
   "execution_count": null,
   "id": "f09ee288",
   "metadata": {},
   "outputs": [],
   "source": [
    "conn.close()"
   ]
  },
  {
   "cell_type": "markdown",
   "id": "3a76e4db",
   "metadata": {
    "papermill": {
     "duration": 0.012644,
     "end_time": "2023-06-15T03:30:08.213504",
     "exception": false,
     "start_time": "2023-06-15T03:30:08.200860",
     "status": "completed"
    },
    "tags": []
   },
   "source": [
    "## Free up some resources"
   ]
  },
  {
   "cell_type": "code",
   "execution_count": null,
   "id": "13407b0c",
   "metadata": {
    "execution": {
     "iopub.execute_input": "2023-06-15T03:30:21.955742Z",
     "iopub.status.busy": "2023-06-15T03:30:21.954688Z",
     "iopub.status.idle": "2023-06-15T03:30:21.959844Z",
     "shell.execute_reply": "2023-06-15T03:30:21.959309Z"
    },
    "papermill": {
     "duration": 13.733824,
     "end_time": "2023-06-15T03:30:21.960041",
     "exception": false,
     "start_time": "2023-06-15T03:30:08.226217",
     "status": "completed"
    },
    "tags": []
   },
   "outputs": [],
   "source": [
    "df = None\n",
    "del df\n",
    "gc.collect()"
   ]
  },
  {
   "cell_type": "code",
   "execution_count": null,
   "id": "444dbb9a",
   "metadata": {},
   "outputs": [],
   "source": [
    "# for l in labels:\n",
    "#     df[l] = \"\""
   ]
  },
  {
   "cell_type": "code",
   "execution_count": 12,
   "id": "2ad9c0ff",
   "metadata": {
    "scrolled": false
   },
   "outputs": [
    {
     "data": {
      "text/plain": [
       "'DATE -- Absolute or relative dates or periods'"
      ]
     },
     "metadata": {},
     "output_type": "display_data"
    },
    {
     "data": {
      "text/plain": [
       "'ORG -- Companies, agencies, institutions, etc.'"
      ]
     },
     "metadata": {},
     "output_type": "display_data"
    },
    {
     "data": {
      "text/plain": [
       "'NORP -- Nationalities or religious or political groups'"
      ]
     },
     "metadata": {},
     "output_type": "display_data"
    },
    {
     "data": {
      "text/plain": [
       "'GPE -- Countries, cities, states'"
      ]
     },
     "metadata": {},
     "output_type": "display_data"
    },
    {
     "data": {
      "text/plain": [
       "'PERSON -- People, including fictional'"
      ]
     },
     "metadata": {},
     "output_type": "display_data"
    },
    {
     "data": {
      "text/plain": [
       "'TIME -- Times smaller than a day'"
      ]
     },
     "metadata": {},
     "output_type": "display_data"
    },
    {
     "data": {
      "text/plain": [
       "'CARDINAL -- Numerals that do not fall under another type'"
      ]
     },
     "metadata": {},
     "output_type": "display_data"
    },
    {
     "data": {
      "text/plain": [
       "'ORDINAL -- \"first\", \"second\", etc.'"
      ]
     },
     "metadata": {},
     "output_type": "display_data"
    },
    {
     "data": {
      "text/plain": [
       "'PRODUCT -- Objects, vehicles, foods, etc. (not services)'"
      ]
     },
     "metadata": {},
     "output_type": "display_data"
    },
    {
     "data": {
      "text/plain": [
       "'LOC -- Non-GPE locations, mountain ranges, bodies of water'"
      ]
     },
     "metadata": {},
     "output_type": "display_data"
    },
    {
     "data": {
      "text/plain": [
       "'LANGUAGE -- Any named language'"
      ]
     },
     "metadata": {},
     "output_type": "display_data"
    },
    {
     "data": {
      "text/plain": [
       "'MONEY -- Monetary values, including unit'"
      ]
     },
     "metadata": {},
     "output_type": "display_data"
    },
    {
     "data": {
      "text/plain": [
       "'FAC -- Buildings, airports, highways, bridges, etc.'"
      ]
     },
     "metadata": {},
     "output_type": "display_data"
    },
    {
     "data": {
      "text/plain": [
       "'EVENT -- Named hurricanes, battles, wars, sports events, etc.'"
      ]
     },
     "metadata": {},
     "output_type": "display_data"
    },
    {
     "data": {
      "text/plain": [
       "'WORK_OF_ART -- Titles of books, songs, etc.'"
      ]
     },
     "metadata": {},
     "output_type": "display_data"
    },
    {
     "data": {
      "text/plain": [
       "'QUANTITY -- Measurements, as of weight or distance'"
      ]
     },
     "metadata": {},
     "output_type": "display_data"
    },
    {
     "data": {
      "text/plain": [
       "'LAW -- Named documents made into laws.'"
      ]
     },
     "metadata": {},
     "output_type": "display_data"
    },
    {
     "data": {
      "text/plain": [
       "'PERCENT -- Percentage, including \"%\"'"
      ]
     },
     "metadata": {},
     "output_type": "display_data"
    }
   ],
   "source": [
    "labels=ne_data['label'].unique().tolist()\n",
    "\n",
    "for label in labels:\n",
    "    display(label + \" -- \" + spacy.explain(label))"
   ]
  },
  {
   "cell_type": "markdown",
   "id": "4077ac69",
   "metadata": {},
   "source": [
    "## Enrich this dataframe with more detail from the FULL source"
   ]
  },
  {
   "cell_type": "code",
   "execution_count": 8,
   "id": "edfe70a7",
   "metadata": {},
   "outputs": [],
   "source": [
    "def find_coords_if_present(dates):\n",
    "        # Connect to the SQLite database\n",
    "    print('connecting...')\n",
    "    conn = sqlite3.connect(r'D:\\PENNSTATE_GIS\\CAPSTONE!\\sql_db_lite\\full_summer_tweets.db')\n",
    "    \n",
    "    query = \"\"\"SELECT * from full_summer_tweets\n",
    "            WHERE tweetcreatedts BETWEEN '{}' AND '{}'\"\"\"\n",
    "    print('selecting...')\n",
    "    query = query.format(dates[0], dates[1])\n",
    "    \n",
    "    df = pd.read_sql(query, conn)\n",
    "    conn.close()\n",
    "    \n",
    "    df = df[~df['coordinates'].isnull()]\n",
    "    \n",
    "    dates_done = \"Last dates done: \" + dates[0] + \" TO \" + dates[1]\n",
    "    \n",
    "    return dates_done, df"
   ]
  },
  {
   "cell_type": "code",
   "execution_count": 9,
   "id": "a444d46b",
   "metadata": {},
   "outputs": [],
   "source": [
    "def append_coords_if_present(dates, tweets_with_coords):\n",
    "        # Connect to the SQLite database\n",
    "    print('connecting...')\n",
    "    conn = sqlite3.connect(r'D:\\PENNSTATE_GIS\\CAPSTONE!\\sql_db_lite\\no_retweets.db')\n",
    "    \n",
    "    query = \"\"\"SELECT * from no_retweets\n",
    "            WHERE tweetcreatedts BETWEEN '{}' AND '{}'\"\"\"\n",
    "    print('selecting...')\n",
    "    query = query.format(dates[0], dates[1])\n",
    "    \n",
    "    df = pd.read_sql(query, conn)\n",
    "    conn.close()\n",
    "    \n",
    "    df['coordinates'] = \"\"\n",
    "    for i, row in df.iterrows():\n",
    "        try:\n",
    "            df.at[i, 'coordinates'] = str(eval(tweets_with_coords[row.tweetid])['coordinates'])\n",
    "        except:\n",
    "            pass\n",
    "    \n",
    "    print('writing to new db...')\n",
    "    conn = sqlite3.connect(r'D:\\PENNSTATE_GIS\\CAPSTONE!\\sql_db_lite\\no_retweets_coords.db')\n",
    "\n",
    "    df.to_sql('no_retweets_coords', conn, if_exists='append', index=False)\n",
    "    conn.close()\n",
    "    \n",
    "    dates_done = \"Last dates done: \" + dates[0] + \" TO \" + dates[1]\n",
    "    \n",
    "    return dates_done"
   ]
  },
  {
   "cell_type": "code",
   "execution_count": 10,
   "id": "e36d848f",
   "metadata": {},
   "outputs": [],
   "source": [
    "def create_label_dictionary(df):\n",
    "    # Initialize an empty dictionary\n",
    "    dictionary = {}\n",
    "\n",
    "    # Iterate over the DataFrame rows\n",
    "    for index, row in df.iterrows():\n",
    "        key = row['label']\n",
    "        value = row['named_entity']\n",
    "\n",
    "        # Check if the key already exists in the dictionary\n",
    "        if key in dictionary:\n",
    "            dictionary[key].append(value)\n",
    "        else:\n",
    "            dictionary[key] = [value]\n",
    "    return dictionary"
   ]
  },
  {
   "cell_type": "code",
   "execution_count": 160,
   "id": "d96115f9",
   "metadata": {},
   "outputs": [],
   "source": [
    "def append_ne_if_present(dates, labels, ne_data):\n",
    "        # Connect to the SQLite database\n",
    "    print('connecting...')\n",
    "    conn = sqlite3.connect(r'D:\\PENNSTATE_GIS\\CAPSTONE!\\sql_db_lite\\no_retweets_coords.db')\n",
    "    \n",
    "    query = \"\"\"SELECT * from no_retweets_coords\n",
    "            WHERE tweetcreatedts BETWEEN '{}' AND '{}'\"\"\"\n",
    "    print('selecting...')\n",
    "    query = query.format(dates[0], dates[1])\n",
    "    \n",
    "    df = pd.read_sql(query, conn)\n",
    "    conn.close()\n",
    "        # Add column for all possible labels\n",
    "    for l in labels:\n",
    "        df[l] = \"\"\n",
    "    \n",
    "    print(\"Adding labels...\")\n",
    "    for i, row in df.iterrows():\n",
    "        label_subset_df = ne_data[ne_data['tweetid']==row.tweetid]\n",
    "        if len(label_subset_df) > 0:\n",
    "            dictionary = create_label_dictionary(label_subset_df)\n",
    "\n",
    "            for k,v in dictionary.items():\n",
    "                    # append list of all named entities by label if present\n",
    "                df.at[i, k] = str(v) # SQlite doesnt like lists\n",
    "        else:\n",
    "            pass\n",
    "    \n",
    "    print('writing to new db...')\n",
    "    conn = sqlite3.connect(r'D:\\PENNSTATE_GIS\\CAPSTONE!\\sql_db_lite\\no_retweets_coords_labels.db')\n",
    "\n",
    "    df.to_sql('no_retweets_coords_labels', conn, if_exists='append', index=False)\n",
    "    conn.close()\n",
    "    \n",
    "    dates_done = \"Last dates done: \" + dates[0] + \" TO \" + dates[1]\n",
    "    \n",
    "    return dates_done"
   ]
  },
  {
   "cell_type": "code",
   "execution_count": null,
   "id": "bf34eb1b",
   "metadata": {},
   "outputs": [],
   "source": [
    "conn = sqlite3.connect(r'D:\\PENNSTATE_GIS\\CAPSTONE!\\sql_db_lite\\full_summer_tweets.db')\n",
    "query = \"\"\"SELECT count(*) from full_summer_tweets\"\"\"\n",
    "pd.read_sql(query, conn)"
   ]
  },
  {
   "cell_type": "code",
   "execution_count": null,
   "id": "c96167b1",
   "metadata": {},
   "outputs": [],
   "source": [
    "%%time\n",
    "tweets_with_coords = {}\n",
    "\n",
    "for dates in date_pairs:\n",
    "    display(dates_done)\n",
    "    \n",
    "    dates_done, df= find_coords_if_present(dates)\n",
    "    if len(df) > 0:\n",
    "        for i,row in df.iterrows():\n",
    "            tweets_with_coords[row.tweetid] = row.coordinates\n",
    "    else:\n",
    "        pass\n",
    "    \n",
    "    clear_output(wait=True)   "
   ]
  },
  {
   "cell_type": "code",
   "execution_count": null,
   "id": "bc422069",
   "metadata": {},
   "outputs": [],
   "source": [
    "print(\"Percent of tweets (16,203) with coordinates in full summer tweets:\")\n",
    "round(len(tweets_with_coords)/14829283 * 100, 2) "
   ]
  },
  {
   "cell_type": "code",
   "execution_count": null,
   "id": "361cc9c0",
   "metadata": {
    "scrolled": true
   },
   "outputs": [],
   "source": [
    "%%time\n",
    "\n",
    "for dates in date_pairs:\n",
    "    display(dates_done)\n",
    "    \n",
    "    dates_done = append_coords_if_present(dates, tweets_with_coords)\n",
    "    \n",
    "    clear_output(wait=True) "
   ]
  },
  {
   "cell_type": "code",
   "execution_count": 134,
   "id": "8ecaac81",
   "metadata": {
    "scrolled": true
   },
   "outputs": [
    {
     "data": {
      "text/html": [
       "<div>\n",
       "<style scoped>\n",
       "    .dataframe tbody tr th:only-of-type {\n",
       "        vertical-align: middle;\n",
       "    }\n",
       "\n",
       "    .dataframe tbody tr th {\n",
       "        vertical-align: top;\n",
       "    }\n",
       "\n",
       "    .dataframe thead th {\n",
       "        text-align: right;\n",
       "    }\n",
       "</style>\n",
       "<table border=\"1\" class=\"dataframe\">\n",
       "  <thead>\n",
       "    <tr style=\"text-align: right;\">\n",
       "      <th></th>\n",
       "      <th>location</th>\n",
       "      <th>tweetid</th>\n",
       "      <th>tweetcreatedts</th>\n",
       "      <th>retweetcount</th>\n",
       "      <th>text</th>\n",
       "      <th>hashtags</th>\n",
       "      <th>coordinates</th>\n",
       "      <th>DATE</th>\n",
       "      <th>ORG</th>\n",
       "      <th>NORP</th>\n",
       "      <th>...</th>\n",
       "      <th>PRODUCT</th>\n",
       "      <th>LOC</th>\n",
       "      <th>LANGUAGE</th>\n",
       "      <th>MONEY</th>\n",
       "      <th>FAC</th>\n",
       "      <th>EVENT</th>\n",
       "      <th>WORK_OF_ART</th>\n",
       "      <th>QUANTITY</th>\n",
       "      <th>LAW</th>\n",
       "      <th>PERCENT</th>\n",
       "    </tr>\n",
       "  </thead>\n",
       "  <tbody>\n",
       "    <tr>\n",
       "      <th>0</th>\n",
       "      <td>The Poletti Group LLC is a company out of Star...</td>\n",
       "      <td>1531787610854608898</td>\n",
       "      <td>2022-06-01 00:00:00</td>\n",
       "      <td>0</td>\n",
       "      <td>#ArchaicAgeofDarkess #tabletopgames #ttrpgcomm...</td>\n",
       "      <td>[{'text': 'ArchaicAgeofDarkess', 'indices': [0...</td>\n",
       "      <td></td>\n",
       "      <td>['tomorrow']</td>\n",
       "      <td></td>\n",
       "      <td></td>\n",
       "      <td>...</td>\n",
       "      <td></td>\n",
       "      <td></td>\n",
       "      <td></td>\n",
       "      <td></td>\n",
       "      <td></td>\n",
       "      <td></td>\n",
       "      <td></td>\n",
       "      <td></td>\n",
       "      <td></td>\n",
       "      <td></td>\n",
       "    </tr>\n",
       "    <tr>\n",
       "      <th>1</th>\n",
       "      <td>Florence, SC</td>\n",
       "      <td>1531787611337068544</td>\n",
       "      <td>2022-06-01 00:00:00</td>\n",
       "      <td>0</td>\n",
       "      <td>#dailymotivation  It doesn't matter how much y...</td>\n",
       "      <td>[{'text': 'dailymotivation', 'indices': [0, 16...</td>\n",
       "      <td></td>\n",
       "      <td></td>\n",
       "      <td></td>\n",
       "      <td></td>\n",
       "      <td>...</td>\n",
       "      <td></td>\n",
       "      <td></td>\n",
       "      <td></td>\n",
       "      <td></td>\n",
       "      <td></td>\n",
       "      <td></td>\n",
       "      <td></td>\n",
       "      <td></td>\n",
       "      <td></td>\n",
       "      <td></td>\n",
       "    </tr>\n",
       "    <tr>\n",
       "      <th>2</th>\n",
       "      <td>Beijing,China</td>\n",
       "      <td>1531787611978625027</td>\n",
       "      <td>2022-06-01 00:00:00</td>\n",
       "      <td>0</td>\n",
       "      <td>Still remember our #innovative #business model...</td>\n",
       "      <td>[{'text': 'innovative', 'indices': [19, 30]}, ...</td>\n",
       "      <td></td>\n",
       "      <td></td>\n",
       "      <td></td>\n",
       "      <td></td>\n",
       "      <td>...</td>\n",
       "      <td></td>\n",
       "      <td></td>\n",
       "      <td></td>\n",
       "      <td></td>\n",
       "      <td></td>\n",
       "      <td></td>\n",
       "      <td></td>\n",
       "      <td></td>\n",
       "      <td></td>\n",
       "      <td></td>\n",
       "    </tr>\n",
       "    <tr>\n",
       "      <th>3</th>\n",
       "      <td>None</td>\n",
       "      <td>1531787611978846209</td>\n",
       "      <td>2022-06-01 00:00:00</td>\n",
       "      <td>0</td>\n",
       "      <td>⚽️Algovenger World Cup Soccer⚽️\\n\\nLet’s Go!!!...</td>\n",
       "      <td>[{'text': 'USA', 'indices': [71, 75]}, {'text'...</td>\n",
       "      <td></td>\n",
       "      <td></td>\n",
       "      <td></td>\n",
       "      <td></td>\n",
       "      <td>...</td>\n",
       "      <td></td>\n",
       "      <td></td>\n",
       "      <td></td>\n",
       "      <td></td>\n",
       "      <td></td>\n",
       "      <td></td>\n",
       "      <td></td>\n",
       "      <td></td>\n",
       "      <td></td>\n",
       "      <td></td>\n",
       "    </tr>\n",
       "    <tr>\n",
       "      <th>4</th>\n",
       "      <td>Worldwide</td>\n",
       "      <td>1531787612431826945</td>\n",
       "      <td>2022-06-01 00:00:00</td>\n",
       "      <td>2</td>\n",
       "      <td>Assassins Creed Origins 60FPS Update Coming Th...</td>\n",
       "      <td>[{'text': 'AssassinsCreedOrigins', 'indices': ...</td>\n",
       "      <td></td>\n",
       "      <td>['thursday']</td>\n",
       "      <td>['sony']</td>\n",
       "      <td></td>\n",
       "      <td>...</td>\n",
       "      <td></td>\n",
       "      <td></td>\n",
       "      <td></td>\n",
       "      <td></td>\n",
       "      <td></td>\n",
       "      <td></td>\n",
       "      <td></td>\n",
       "      <td></td>\n",
       "      <td></td>\n",
       "      <td></td>\n",
       "    </tr>\n",
       "    <tr>\n",
       "      <th>5</th>\n",
       "      <td>None</td>\n",
       "      <td>1531787613568389125</td>\n",
       "      <td>2022-06-01 00:00:00</td>\n",
       "      <td>0</td>\n",
       "      <td>WATCH: #Russian Ka-52 Attack Helicopter’s Ludi...</td>\n",
       "      <td>[{'text': 'Russian', 'indices': [7, 15]}, {'te...</td>\n",
       "      <td></td>\n",
       "      <td></td>\n",
       "      <td></td>\n",
       "      <td>['russian']</td>\n",
       "      <td>...</td>\n",
       "      <td></td>\n",
       "      <td></td>\n",
       "      <td></td>\n",
       "      <td></td>\n",
       "      <td></td>\n",
       "      <td></td>\n",
       "      <td></td>\n",
       "      <td></td>\n",
       "      <td></td>\n",
       "      <td></td>\n",
       "    </tr>\n",
       "    <tr>\n",
       "      <th>6</th>\n",
       "      <td>Texas</td>\n",
       "      <td>1531787613711081472</td>\n",
       "      <td>2022-06-01 00:00:01</td>\n",
       "      <td>1</td>\n",
       "      <td>Scientists boost the levels of THC in cannabis...</td>\n",
       "      <td>[{'text': 'Medical', 'indices': [63, 71]}, {'t...</td>\n",
       "      <td></td>\n",
       "      <td>['today']</td>\n",
       "      <td></td>\n",
       "      <td></td>\n",
       "      <td>...</td>\n",
       "      <td></td>\n",
       "      <td></td>\n",
       "      <td></td>\n",
       "      <td></td>\n",
       "      <td></td>\n",
       "      <td></td>\n",
       "      <td></td>\n",
       "      <td></td>\n",
       "      <td></td>\n",
       "      <td></td>\n",
       "    </tr>\n",
       "    <tr>\n",
       "      <th>7</th>\n",
       "      <td>Philadelphia, PA</td>\n",
       "      <td>1531787614088531968</td>\n",
       "      <td>2022-06-01 00:00:01</td>\n",
       "      <td>0</td>\n",
       "      <td>Read: https://t.co/6CytIXStUX\\n.\\n.\\n.\\n.\\n.\\n...</td>\n",
       "      <td>[{'text': 'HighSchoolReunion', 'indices': [40,...</td>\n",
       "      <td></td>\n",
       "      <td></td>\n",
       "      <td></td>\n",
       "      <td></td>\n",
       "      <td>...</td>\n",
       "      <td></td>\n",
       "      <td></td>\n",
       "      <td></td>\n",
       "      <td></td>\n",
       "      <td></td>\n",
       "      <td></td>\n",
       "      <td></td>\n",
       "      <td></td>\n",
       "      <td></td>\n",
       "      <td></td>\n",
       "    </tr>\n",
       "    <tr>\n",
       "      <th>8</th>\n",
       "      <td>Quito, Ecuador</td>\n",
       "      <td>1531787615082528770</td>\n",
       "      <td>2022-06-01 00:00:01</td>\n",
       "      <td>6</td>\n",
       "      <td>#Russia Did Everything To Avert Global Food Cr...</td>\n",
       "      <td>[{'text': 'Russia', 'indices': [0, 7]}]</td>\n",
       "      <td></td>\n",
       "      <td></td>\n",
       "      <td></td>\n",
       "      <td>['russian', 'russian']</td>\n",
       "      <td>...</td>\n",
       "      <td></td>\n",
       "      <td></td>\n",
       "      <td></td>\n",
       "      <td></td>\n",
       "      <td></td>\n",
       "      <td></td>\n",
       "      <td></td>\n",
       "      <td></td>\n",
       "      <td></td>\n",
       "      <td></td>\n",
       "    </tr>\n",
       "    <tr>\n",
       "      <th>9</th>\n",
       "      <td>Bitcoin</td>\n",
       "      <td>1531787617091600384</td>\n",
       "      <td>2022-06-01 00:00:01</td>\n",
       "      <td>0</td>\n",
       "      <td>May 31, 2022 23:59:00 UTC | 31,772.00$ | 29,56...</td>\n",
       "      <td>[{'text': 'Bitcoin', 'indices': [67, 75]}, {'t...</td>\n",
       "      <td></td>\n",
       "      <td></td>\n",
       "      <td>['utc']</td>\n",
       "      <td></td>\n",
       "      <td>...</td>\n",
       "      <td></td>\n",
       "      <td></td>\n",
       "      <td></td>\n",
       "      <td></td>\n",
       "      <td></td>\n",
       "      <td></td>\n",
       "      <td></td>\n",
       "      <td></td>\n",
       "      <td></td>\n",
       "      <td></td>\n",
       "    </tr>\n",
       "  </tbody>\n",
       "</table>\n",
       "<p>10 rows × 25 columns</p>\n",
       "</div>"
      ],
      "text/plain": [
       "                                            location              tweetid  \\\n",
       "0  The Poletti Group LLC is a company out of Star...  1531787610854608898   \n",
       "1                                       Florence, SC  1531787611337068544   \n",
       "2                                      Beijing,China  1531787611978625027   \n",
       "3                                               None  1531787611978846209   \n",
       "4                                         Worldwide   1531787612431826945   \n",
       "5                                               None  1531787613568389125   \n",
       "6                                              Texas  1531787613711081472   \n",
       "7                                   Philadelphia, PA  1531787614088531968   \n",
       "8                                     Quito, Ecuador  1531787615082528770   \n",
       "9                                            Bitcoin  1531787617091600384   \n",
       "\n",
       "        tweetcreatedts  retweetcount  \\\n",
       "0  2022-06-01 00:00:00             0   \n",
       "1  2022-06-01 00:00:00             0   \n",
       "2  2022-06-01 00:00:00             0   \n",
       "3  2022-06-01 00:00:00             0   \n",
       "4  2022-06-01 00:00:00             2   \n",
       "5  2022-06-01 00:00:00             0   \n",
       "6  2022-06-01 00:00:01             1   \n",
       "7  2022-06-01 00:00:01             0   \n",
       "8  2022-06-01 00:00:01             6   \n",
       "9  2022-06-01 00:00:01             0   \n",
       "\n",
       "                                                text  \\\n",
       "0  #ArchaicAgeofDarkess #tabletopgames #ttrpgcomm...   \n",
       "1  #dailymotivation  It doesn't matter how much y...   \n",
       "2  Still remember our #innovative #business model...   \n",
       "3  ⚽️Algovenger World Cup Soccer⚽️\\n\\nLet’s Go!!!...   \n",
       "4  Assassins Creed Origins 60FPS Update Coming Th...   \n",
       "5  WATCH: #Russian Ka-52 Attack Helicopter’s Ludi...   \n",
       "6  Scientists boost the levels of THC in cannabis...   \n",
       "7  Read: https://t.co/6CytIXStUX\\n.\\n.\\n.\\n.\\n.\\n...   \n",
       "8  #Russia Did Everything To Avert Global Food Cr...   \n",
       "9  May 31, 2022 23:59:00 UTC | 31,772.00$ | 29,56...   \n",
       "\n",
       "                                            hashtags coordinates  \\\n",
       "0  [{'text': 'ArchaicAgeofDarkess', 'indices': [0...               \n",
       "1  [{'text': 'dailymotivation', 'indices': [0, 16...               \n",
       "2  [{'text': 'innovative', 'indices': [19, 30]}, ...               \n",
       "3  [{'text': 'USA', 'indices': [71, 75]}, {'text'...               \n",
       "4  [{'text': 'AssassinsCreedOrigins', 'indices': ...               \n",
       "5  [{'text': 'Russian', 'indices': [7, 15]}, {'te...               \n",
       "6  [{'text': 'Medical', 'indices': [63, 71]}, {'t...               \n",
       "7  [{'text': 'HighSchoolReunion', 'indices': [40,...               \n",
       "8            [{'text': 'Russia', 'indices': [0, 7]}]               \n",
       "9  [{'text': 'Bitcoin', 'indices': [67, 75]}, {'t...               \n",
       "\n",
       "           DATE       ORG                    NORP  ... PRODUCT LOC LANGUAGE  \\\n",
       "0  ['tomorrow']                                    ...                        \n",
       "1                                                  ...                        \n",
       "2                                                  ...                        \n",
       "3                                                  ...                        \n",
       "4  ['thursday']  ['sony']                          ...                        \n",
       "5                                     ['russian']  ...                        \n",
       "6     ['today']                                    ...                        \n",
       "7                                                  ...                        \n",
       "8                          ['russian', 'russian']  ...                        \n",
       "9                 ['utc']                          ...                        \n",
       "\n",
       "  MONEY FAC EVENT WORK_OF_ART QUANTITY LAW PERCENT  \n",
       "0                                                   \n",
       "1                                                   \n",
       "2                                                   \n",
       "3                                                   \n",
       "4                                                   \n",
       "5                                                   \n",
       "6                                                   \n",
       "7                                                   \n",
       "8                                                   \n",
       "9                                                   \n",
       "\n",
       "[10 rows x 25 columns]"
      ]
     },
     "execution_count": 134,
     "metadata": {},
     "output_type": "execute_result"
    }
   ],
   "source": [
    "# Connect to the SQLite database\n",
    "conn = sqlite3.connect(r'D:\\PENNSTATE_GIS\\CAPSTONE!\\sql_db_lite\\no_retweets_coords_labels.db')\n",
    "query = \"\"\"SELECT * from no_retweets_coords_labels LIMIT 10\"\"\"\n",
    "df = pd.read_sql(query, conn)\n",
    "conn.close()\n",
    "df"
   ]
  },
  {
   "cell_type": "code",
   "execution_count": null,
   "id": "1339a0d0",
   "metadata": {},
   "outputs": [],
   "source": [
    "print(\"Percent of tweets (2,631) with coordinates in summer original tweets:\")\n",
    "round(len(df[df['coordinates'] != \"\"])/3191820  * 100, 2) "
   ]
  },
  {
   "cell_type": "code",
   "execution_count": null,
   "id": "b3c60dda",
   "metadata": {},
   "outputs": [],
   "source": [
    "# Connect to the SQLite database\n",
    "conn = sqlite3.connect(r'D:\\PENNSTATE_GIS\\CAPSTONE!\\sql_db_lite\\no_retweets.db')\n",
    "query = \"\"\"SELECT count(*) from no_retweets\"\"\"\n",
    "pd.read_sql(query, conn)"
   ]
  },
  {
   "cell_type": "code",
   "execution_count": null,
   "id": "24e244fe",
   "metadata": {},
   "outputs": [],
   "source": [
    "# Connect to the SQLite database\n",
    "conn = sqlite3.connect(r'D:\\PENNSTATE_GIS\\CAPSTONE!\\sql_db_lite\\ner_labels_id.db')\n",
    "# cursor = conn.cursor()"
   ]
  },
  {
   "cell_type": "code",
   "execution_count": null,
   "id": "971e4fd4",
   "metadata": {},
   "outputs": [],
   "source": [
    "query = \"\"\"SELECT * from ner_labels_id\"\"\"\n",
    "ne_data = pd.read_sql(query, conn)\n",
    "conn.close()"
   ]
  },
  {
   "cell_type": "markdown",
   "id": "aacb3cab",
   "metadata": {},
   "source": [
    "### Attach labels"
   ]
  },
  {
   "cell_type": "code",
   "execution_count": 14,
   "id": "2534dca5",
   "metadata": {},
   "outputs": [
    {
     "name": "stdout",
     "output_type": "stream",
     "text": [
      "Wall time: 3h 19min 19s\n"
     ]
    }
   ],
   "source": [
    "%%time\n",
    "dates_done = ''\n",
    "for dates in date_pairs:\n",
    "    display(dates_done)\n",
    "    \n",
    "    dates_done = append_ne_if_present(dates, labels, ne_data)\n",
    "    \n",
    "    clear_output(wait=True) "
   ]
  },
  {
   "cell_type": "markdown",
   "id": "222e697c",
   "metadata": {},
   "source": [
    "### Determine if location field is a legitimate location/POI (GPE, LOC, FAC)"
   ]
  },
  {
   "cell_type": "code",
   "execution_count": 167,
   "id": "32d19242",
   "metadata": {},
   "outputs": [],
   "source": [
    "def ner_from_location_field(df):\n",
    "    locs=[]\n",
    "    labels=[]\n",
    "\n",
    "    df['places'] = ''\n",
    "    df['p_labels'] = ''\n",
    "    df = df[['location', 'places', 'p_labels', 'tweetid', 'tweetcreatedts', 'retweetcount', 'text', 'hashtags', 'coordinates', 'DATE', 'ORG', 'NORP', 'GPE', 'PERSON', 'TIME', 'CARDINAL', 'ORDINAL', 'PRODUCT', 'LOC', 'LANGUAGE', 'MONEY', 'FAC', 'EVENT', 'WORK_OF_ART', 'QUANTITY', 'LAW', 'PERCENT']]\n",
    "\n",
    "    for i, row in df.iterrows():\n",
    "        loc = row.location\n",
    "        try:\n",
    "            if ',' in loc:\n",
    "                loc = ' '.join(loc.split(','))\n",
    "\n",
    "            clean = preprocess_tweet(loc)\n",
    "            doc = nlp(clean)\n",
    "\n",
    "            if len(doc.ents)==0:\n",
    "                locs.append('')\n",
    "                labels.append('')\n",
    "\n",
    "            else:\n",
    "                et = []\n",
    "                el = []\n",
    "                for ent in doc.ents: # This doc property is used for the named entities in the document. \n",
    "                        #If relevant to 'place'\n",
    "                    if ent.label_ in ['GPE', 'LOC', 'FAC']:\n",
    "                        et.append(ent.text)\n",
    "                        el.append(ent.label_)\n",
    "                    else:\n",
    "                        pass\n",
    "\n",
    "                locs.append(et)\n",
    "                labels.append(el)\n",
    "        except: # if location is None\n",
    "            locs.append('')\n",
    "            labels.append('')\n",
    "\n",
    "    df['places'] = locs\n",
    "    df['p_labels'] = labels\n",
    "    \n",
    "    return df"
   ]
  },
  {
   "cell_type": "code",
   "execution_count": 168,
   "id": "33be0812",
   "metadata": {},
   "outputs": [],
   "source": [
    "def append_ne_from_loc_if_present(dates):\n",
    "        # Connect to the SQLite database\n",
    "    print('connecting...')\n",
    "    conn = sqlite3.connect(r'D:\\PENNSTATE_GIS\\CAPSTONE!\\sql_db_lite\\no_retweets_coords_labels.db')\n",
    "    \n",
    "    query = \"\"\"SELECT * from no_retweets_coords_labels\n",
    "            WHERE tweetcreatedts BETWEEN '{}' AND '{}'\"\"\"\n",
    "    print('selecting...')\n",
    "    query = query.format(dates[0], dates[1])\n",
    "    \n",
    "    df = pd.read_sql(query, conn)\n",
    "    conn.close()\n",
    "    \n",
    "    df = ner_from_location_field(df)\n",
    "\n",
    "    print('writing to new db...')\n",
    "    conn = sqlite3.connect(r'D:\\PENNSTATE_GIS\\CAPSTONE!\\sql_db_lite\\summer_2022_no_retweets_final.db')\n",
    "    \n",
    "    df['places'] = df['places'].astype(str)\n",
    "    df['p_labels'] = df['p_labels'].astype(str)\n",
    "    \n",
    "    df.to_sql('summer_2022_no_retweets_final', conn, if_exists='append', index=False)\n",
    "    conn.close()\n",
    "    \n",
    "    dates_done = \"Last dates done: \" + dates[0] + \" TO \" + dates[1]\n",
    "    \n",
    "    return dates_done"
   ]
  },
  {
   "cell_type": "code",
   "execution_count": 169,
   "id": "cb54d56f",
   "metadata": {
    "scrolled": true
   },
   "outputs": [
    {
     "name": "stdout",
     "output_type": "stream",
     "text": [
      "Wall time: 1h 57min 6s\n"
     ]
    }
   ],
   "source": [
    "%%time\n",
    "dates_done = 'first'\n",
    "for dates in date_pairs:\n",
    "    display(dates_done)\n",
    "    \n",
    "    dates_done = append_ne_from_loc_if_present(dates)\n",
    "    \n",
    "    clear_output(wait=True) "
   ]
  },
  {
   "cell_type": "markdown",
   "id": "49831048",
   "metadata": {},
   "source": [
    "## Subset all FULL tweets to a June-Aug SQlite table"
   ]
  },
  {
   "cell_type": "code",
   "execution_count": null,
   "id": "5cb1ad8d",
   "metadata": {
    "scrolled": true
   },
   "outputs": [],
   "source": [
    "%%time\n",
    "# Connect to the SQLite database\n",
    "conn = sqlite3.connect(r'D:\\PENNSTATE_GIS\\CAPSTONE!\\sql_db_lite\\full_tweets.db')\n",
    "\n",
    "print('selecting from full...')\n",
    "query = \"\"\"SELECT * from full_tweets\n",
    "            WHERE tweetcreatedts BETWEEN '2022-06-01 00:00:00' AND '2022-08-31 00:00:00'\"\"\"\n",
    "df = pd.read_sql(query, conn)\n",
    "conn.close()\n",
    "print(\"done selecting from full...\")\n",
    "\n",
    "print('writing to new db...')\n",
    "conn = sqlite3.connect(r'D:\\PENNSTATE_GIS\\CAPSTONE!\\sql_db_lite\\full_summer_tweets.db')\n",
    "\n",
    "df.to_sql('full_summer_tweets', conn, if_exists='append', index=False)\n",
    "conn.close()\n",
    "\n",
    "df = None\n",
    "del df\n",
    "gc.collect()"
   ]
  },
  {
   "cell_type": "code",
   "execution_count": null,
   "id": "72c46529",
   "metadata": {},
   "outputs": [],
   "source": []
  },
  {
   "cell_type": "code",
   "execution_count": null,
   "id": "90915ee5",
   "metadata": {},
   "outputs": [],
   "source": []
  }
 ],
 "metadata": {
  "kernelspec": {
   "display_name": "Python 3 (ipykernel)",
   "language": "python",
   "name": "python3"
  },
  "language_info": {
   "codemirror_mode": {
    "name": "ipython",
    "version": 3
   },
   "file_extension": ".py",
   "mimetype": "text/x-python",
   "name": "python",
   "nbconvert_exporter": "python",
   "pygments_lexer": "ipython3",
   "version": "3.9.13"
  },
  "papermill": {
   "default_parameters": {},
   "duration": 155.319285,
   "end_time": "2023-02-15T12:20:23.374262",
   "environment_variables": {},
   "exception": null,
   "input_path": "__notebook__.ipynb",
   "output_path": "__notebook__.ipynb",
   "parameters": {},
   "start_time": "2023-02-15T12:17:48.054977",
   "version": "2.3.4"
  }
 },
 "nbformat": 4,
 "nbformat_minor": 5
}
